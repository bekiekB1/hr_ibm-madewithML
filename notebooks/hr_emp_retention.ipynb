{
 "cells": [
  {
   "cell_type": "code",
   "execution_count": null,
   "metadata": {},
   "outputs": [
    {
     "name": "stdout",
     "output_type": "stream",
     "text": [
      "The autoreload extension is already loaded. To reload it, use:\n",
      "  %reload_ext autoreload\n"
     ]
    }
   ],
   "source": [
    "# Notebook Setup \n",
    "import sys; import os;sys.path.append(os.path.abspath('..'))# Append path to access folder/script\n",
    "import warnings; warnings.filterwarnings(\"ignore\")# Ignore Warnings \n",
    "from dotenv import load_dotenv; load_dotenv()# Import .env file \n",
    "%load_ext autoreload\n",
    "%autoreload 2"
   ]
  },
  {
   "cell_type": "markdown",
   "metadata": {},
   "source": [
    "# Data Ingestion"
   ]
  },
  {
   "cell_type": "code",
   "execution_count": null,
   "metadata": {},
   "outputs": [
    {
     "data": {
      "text/html": [
       "<div>\n",
       "<style scoped>\n",
       "    .dataframe tbody tr th:only-of-type {\n",
       "        vertical-align: middle;\n",
       "    }\n",
       "\n",
       "    .dataframe tbody tr th {\n",
       "        vertical-align: top;\n",
       "    }\n",
       "\n",
       "    .dataframe thead th {\n",
       "        text-align: right;\n",
       "    }\n",
       "</style>\n",
       "<table border=\"1\" class=\"dataframe\">\n",
       "  <thead>\n",
       "    <tr style=\"text-align: right;\">\n",
       "      <th></th>\n",
       "      <th>Age</th>\n",
       "      <th>Attrition</th>\n",
       "      <th>BusinessTravel</th>\n",
       "      <th>DailyRate</th>\n",
       "      <th>Department</th>\n",
       "      <th>DistanceFromHome</th>\n",
       "      <th>Education</th>\n",
       "      <th>EducationField</th>\n",
       "      <th>EmployeeCount</th>\n",
       "      <th>EmployeeNumber</th>\n",
       "      <th>...</th>\n",
       "      <th>RelationshipSatisfaction</th>\n",
       "      <th>StandardHours</th>\n",
       "      <th>StockOptionLevel</th>\n",
       "      <th>TotalWorkingYears</th>\n",
       "      <th>TrainingTimesLastYear</th>\n",
       "      <th>WorkLifeBalance</th>\n",
       "      <th>YearsAtCompany</th>\n",
       "      <th>YearsInCurrentRole</th>\n",
       "      <th>YearsSinceLastPromotion</th>\n",
       "      <th>YearsWithCurrManager</th>\n",
       "    </tr>\n",
       "  </thead>\n",
       "  <tbody>\n",
       "    <tr>\n",
       "      <th>0</th>\n",
       "      <td>41</td>\n",
       "      <td>Yes</td>\n",
       "      <td>Travel_Rarely</td>\n",
       "      <td>1102</td>\n",
       "      <td>Sales</td>\n",
       "      <td>1</td>\n",
       "      <td>2</td>\n",
       "      <td>Life Sciences</td>\n",
       "      <td>1</td>\n",
       "      <td>1</td>\n",
       "      <td>...</td>\n",
       "      <td>1</td>\n",
       "      <td>80</td>\n",
       "      <td>0</td>\n",
       "      <td>8</td>\n",
       "      <td>0</td>\n",
       "      <td>1</td>\n",
       "      <td>6</td>\n",
       "      <td>4</td>\n",
       "      <td>0</td>\n",
       "      <td>5</td>\n",
       "    </tr>\n",
       "    <tr>\n",
       "      <th>1</th>\n",
       "      <td>49</td>\n",
       "      <td>No</td>\n",
       "      <td>Travel_Frequently</td>\n",
       "      <td>279</td>\n",
       "      <td>Research &amp; Development</td>\n",
       "      <td>8</td>\n",
       "      <td>1</td>\n",
       "      <td>Life Sciences</td>\n",
       "      <td>1</td>\n",
       "      <td>2</td>\n",
       "      <td>...</td>\n",
       "      <td>4</td>\n",
       "      <td>80</td>\n",
       "      <td>1</td>\n",
       "      <td>10</td>\n",
       "      <td>3</td>\n",
       "      <td>3</td>\n",
       "      <td>10</td>\n",
       "      <td>7</td>\n",
       "      <td>1</td>\n",
       "      <td>7</td>\n",
       "    </tr>\n",
       "    <tr>\n",
       "      <th>2</th>\n",
       "      <td>37</td>\n",
       "      <td>Yes</td>\n",
       "      <td>Travel_Rarely</td>\n",
       "      <td>1373</td>\n",
       "      <td>Research &amp; Development</td>\n",
       "      <td>2</td>\n",
       "      <td>2</td>\n",
       "      <td>Other</td>\n",
       "      <td>1</td>\n",
       "      <td>4</td>\n",
       "      <td>...</td>\n",
       "      <td>2</td>\n",
       "      <td>80</td>\n",
       "      <td>0</td>\n",
       "      <td>7</td>\n",
       "      <td>3</td>\n",
       "      <td>3</td>\n",
       "      <td>0</td>\n",
       "      <td>0</td>\n",
       "      <td>0</td>\n",
       "      <td>0</td>\n",
       "    </tr>\n",
       "    <tr>\n",
       "      <th>3</th>\n",
       "      <td>33</td>\n",
       "      <td>No</td>\n",
       "      <td>Travel_Frequently</td>\n",
       "      <td>1392</td>\n",
       "      <td>Research &amp; Development</td>\n",
       "      <td>3</td>\n",
       "      <td>4</td>\n",
       "      <td>Life Sciences</td>\n",
       "      <td>1</td>\n",
       "      <td>5</td>\n",
       "      <td>...</td>\n",
       "      <td>3</td>\n",
       "      <td>80</td>\n",
       "      <td>0</td>\n",
       "      <td>8</td>\n",
       "      <td>3</td>\n",
       "      <td>3</td>\n",
       "      <td>8</td>\n",
       "      <td>7</td>\n",
       "      <td>3</td>\n",
       "      <td>0</td>\n",
       "    </tr>\n",
       "    <tr>\n",
       "      <th>4</th>\n",
       "      <td>27</td>\n",
       "      <td>No</td>\n",
       "      <td>Travel_Rarely</td>\n",
       "      <td>591</td>\n",
       "      <td>Research &amp; Development</td>\n",
       "      <td>2</td>\n",
       "      <td>1</td>\n",
       "      <td>Medical</td>\n",
       "      <td>1</td>\n",
       "      <td>7</td>\n",
       "      <td>...</td>\n",
       "      <td>4</td>\n",
       "      <td>80</td>\n",
       "      <td>1</td>\n",
       "      <td>6</td>\n",
       "      <td>3</td>\n",
       "      <td>3</td>\n",
       "      <td>2</td>\n",
       "      <td>2</td>\n",
       "      <td>2</td>\n",
       "      <td>2</td>\n",
       "    </tr>\n",
       "  </tbody>\n",
       "</table>\n",
       "<p>5 rows × 35 columns</p>\n",
       "</div>"
      ],
      "text/plain": [
       "   Age Attrition     BusinessTravel  DailyRate              Department  \\\n",
       "0   41       Yes      Travel_Rarely       1102                   Sales   \n",
       "1   49        No  Travel_Frequently        279  Research & Development   \n",
       "2   37       Yes      Travel_Rarely       1373  Research & Development   \n",
       "3   33        No  Travel_Frequently       1392  Research & Development   \n",
       "4   27        No      Travel_Rarely        591  Research & Development   \n",
       "\n",
       "   DistanceFromHome  Education EducationField  EmployeeCount  EmployeeNumber  \\\n",
       "0                 1          2  Life Sciences              1               1   \n",
       "1                 8          1  Life Sciences              1               2   \n",
       "2                 2          2          Other              1               4   \n",
       "3                 3          4  Life Sciences              1               5   \n",
       "4                 2          1        Medical              1               7   \n",
       "\n",
       "   ...  RelationshipSatisfaction StandardHours  StockOptionLevel  \\\n",
       "0  ...                         1            80                 0   \n",
       "1  ...                         4            80                 1   \n",
       "2  ...                         2            80                 0   \n",
       "3  ...                         3            80                 0   \n",
       "4  ...                         4            80                 1   \n",
       "\n",
       "   TotalWorkingYears  TrainingTimesLastYear WorkLifeBalance  YearsAtCompany  \\\n",
       "0                  8                      0               1               6   \n",
       "1                 10                      3               3              10   \n",
       "2                  7                      3               3               0   \n",
       "3                  8                      3               3               8   \n",
       "4                  6                      3               3               2   \n",
       "\n",
       "  YearsInCurrentRole  YearsSinceLastPromotion  YearsWithCurrManager  \n",
       "0                  4                        0                     5  \n",
       "1                  7                        1                     7  \n",
       "2                  0                        0                     0  \n",
       "3                  7                        3                     0  \n",
       "4                  2                        2                     2  \n",
       "\n",
       "[5 rows x 35 columns]"
      ]
     },
     "execution_count": null,
     "metadata": {},
     "output_type": "execute_result"
    }
   ],
   "source": [
    "import pandas as pd\n",
    "\n",
    "data_path = \"../data/processed/HR_Employee_data.csv\"\n",
    "df = pd.read_csv(data_path)\n",
    "df.head()"
   ]
  },
  {
   "cell_type": "markdown",
   "metadata": {},
   "source": [
    "## Data Split"
   ]
  },
  {
   "cell_type": "code",
   "execution_count": null,
   "metadata": {},
   "outputs": [],
   "source": [
    "from sklearn.model_selection import train_test_split\n",
    "from typing import List, Tuple\n",
    "import numpy as np\n",
    "import matplotlib.pyplot as plt\n",
    "import seaborn as sns\n",
    "from plotnine import ggplot,aes, geom_point, geom_bar, labs, facet_wrap"
   ]
  },
  {
   "cell_type": "code",
   "execution_count": null,
   "metadata": {},
   "outputs": [],
   "source": [
    "def stratify_split(df, val_size=0.2, test_size=0.5):\n",
    "    train_df, temp_df = train_test_split(df, stratify=df['Attrition'], test_size=val_size, random_state=2023)\n",
    "    val_df, test_df = train_test_split(temp_df, stratify=temp_df['Attrition'], test_size=test_size, random_state=2023)\n",
    "    return train_df, val_df, test_df"
   ]
  },
  {
   "cell_type": "code",
   "execution_count": null,
   "metadata": {},
   "outputs": [],
   "source": [
    "val_size = 0.2\n",
    "test_size = 0.50  \n",
    "\n",
    "train_df, temp_df = train_test_split(df, stratify=df['Attrition'], test_size=val_size, random_state=2023)\n",
    "val_df, test_df = train_test_split(temp_df, stratify=temp_df['Attrition'], test_size=test_size, random_state=2023)"
   ]
  },
  {
   "cell_type": "code",
   "execution_count": null,
   "metadata": {},
   "outputs": [
    {
     "data": {
      "image/png": "[encoded data removed]",
      "text/plain": [
       "<Figure size 640x480 with 4 Axes>"
      ]
     },
     "execution_count": null,
     "metadata": {
      "image/png": {
       "height": 480,
       "width": 640
      }
     },
     "output_type": "execute_result"
    }
   ],
   "source": [
    "# Combine all dataframes into one\n",
    "combined_df = pd.concat([\n",
    "    df.assign(dataset='Original DataFrame (df)'),\n",
    "    train_df.assign(dataset='Training DataFrame (train_df)'),\n",
    "    val_df.assign(dataset='Validation DataFrame (val_df)'),\n",
    "    test_df.assign(dataset='Test DataFrame (test_df)'),\n",
    "])\n",
    "\n",
    "# Plotting using plotnine\n",
    "plot = (ggplot(combined_df, aes(x='factor(Attrition)')) +\n",
    "        geom_bar() +\n",
    "        labs(title='Attrition Distribution') +\n",
    "        facet_wrap('~ dataset', scales='free_y'))\n",
    "\n",
    "# Display the plot\n",
    "plot.draw()"
   ]
  },
  {
   "cell_type": "code",
   "execution_count": null,
   "metadata": {},
   "outputs": [],
   "source": [
    "def plot_hist(data: List[int]):\n",
    "    fig, ax = plt.subplots()\n",
    "\n",
    "    # Bar plot\n",
    "    data.plot(kind='bar', ax=ax, color=['blue', 'orange'])#, 'green', 'red'])\n",
    "\n",
    "\n",
    "    ax.set_xlabel('Target')\n",
    "    ax.set_ylabel('Count')\n",
    "    ax.set_title('Target Counts Histogram')\n",
    "\n",
    "    for i, count in enumerate(data):\n",
    "        ax.text(i, count + 5, str(count), ha='center', va='bottom')\n",
    "\n",
    "    plt.tight_layout()\n",
    "    plt.show()"
   ]
  },
  {
   "cell_type": "code",
   "execution_count": null,
   "metadata": {},
   "outputs": [],
   "source": [
    "# plot_hist(df['Attrition'].value_counts())"
   ]
  },
  {
   "cell_type": "markdown",
   "metadata": {},
   "source": [
    "## EDA"
   ]
  },
  {
   "cell_type": "code",
   "execution_count": null,
   "metadata": {},
   "outputs": [],
   "source": [
    "import matplotlib.pyplot as plt\n",
    "import seaborn as sns\n",
    "import plotly.graph_objs as go"
   ]
  },
  {
   "cell_type": "code",
   "execution_count": null,
   "metadata": {},
   "outputs": [],
   "source": [
    "attrition = train_df.copy()"
   ]
  },
  {
   "cell_type": "code",
   "execution_count": null,
   "metadata": {},
   "outputs": [
    {
     "data": {
      "text/plain": [
       "Age                         False\n",
       "Attrition                   False\n",
       "BusinessTravel              False\n",
       "DailyRate                   False\n",
       "Department                  False\n",
       "DistanceFromHome            False\n",
       "Education                   False\n",
       "EducationField              False\n",
       "EmployeeCount               False\n",
       "EmployeeNumber              False\n",
       "EnvironmentSatisfaction     False\n",
       "Gender                      False\n",
       "HourlyRate                  False\n",
       "JobInvolvement              False\n",
       "JobLevel                    False\n",
       "JobRole                     False\n",
       "JobSatisfaction             False\n",
       "MaritalStatus               False\n",
       "MonthlyIncome               False\n",
       "MonthlyRate                 False\n",
       "NumCompaniesWorked          False\n",
       "Over18                      False\n",
       "OverTime                    False\n",
       "PercentSalaryHike           False\n",
       "PerformanceRating           False\n",
       "RelationshipSatisfaction    False\n",
       "StandardHours               False\n",
       "StockOptionLevel            False\n",
       "TotalWorkingYears           False\n",
       "TrainingTimesLastYear       False\n",
       "WorkLifeBalance             False\n",
       "YearsAtCompany              False\n",
       "YearsInCurrentRole          False\n",
       "YearsSinceLastPromotion     False\n",
       "YearsWithCurrManager        False\n",
       "dtype: bool"
      ]
     },
     "metadata": {},
     "output_type": "display_data"
    }
   ],
   "source": [
    "# Looking for NaN\n",
    "display(attrition.isnull().any())"
   ]
  },
  {
   "cell_type": "code",
   "execution_count": null,
   "metadata": {},
   "outputs": [],
   "source": [
    "# # Plotting the KDEplots\n",
    "# f, axes = plt.subplots(3, 3, figsize=(10, 8), \n",
    "#                        sharex=False, sharey=False)\n",
    "\n",
    "# # Defining our colormap scheme\n",
    "# s = np.linspace(0, 3, 10)\n",
    "# cmap = sns.cubehelix_palette(start=0.0, light=1, as_cmap=True)\n",
    "\n",
    "# # Generate and plot\n",
    "# x = attrition['Age'].values\n",
    "# y = attrition['TotalWorkingYears'].values\n",
    "# sns.kdeplot(x=x, y=y, cmap=cmap, shade=True, cut=5, ax=axes[0,0])\n",
    "# axes[0,0].set( title = 'Age against Total working years')\n",
    "\n",
    "# cmap = sns.cubehelix_palette(start=0.333333333333, light=1, as_cmap=True)\n",
    "# # Generate and plot\n",
    "# x = attrition['Age'].values\n",
    "# y = attrition['DailyRate'].values\n",
    "# sns.kdeplot(x=x, y=y, cmap=cmap, shade=True, ax=axes[0,1])\n",
    "# axes[0,1].set( title = 'Age against Daily Rate')\n",
    "\n",
    "# cmap = sns.cubehelix_palette(start=0.666666666667, light=1, as_cmap=True)\n",
    "# # Generate and plot\n",
    "# x = attrition['YearsInCurrentRole'].values\n",
    "# y = attrition['Age'].values\n",
    "# sns.kdeplot(x=x, y=y, cmap=cmap, shade=True, ax=axes[0,2])\n",
    "# axes[0,2].set( title = 'Years in role against Age')\n",
    "\n",
    "# cmap = sns.cubehelix_palette(start=1.0, light=1, as_cmap=True)\n",
    "# # Generate and plot\n",
    "# x = attrition['DailyRate'].values\n",
    "# y = attrition['DistanceFromHome'].values\n",
    "# sns.kdeplot(x=x, y=y, cmap=cmap, shade=True,  ax=axes[1,0])\n",
    "# axes[1,0].set( title = 'Daily Rate against DistancefromHome')\n",
    "\n",
    "# cmap = sns.cubehelix_palette(start=1.333333333333, light=1, as_cmap=True)\n",
    "# # Generate and plot\n",
    "# x = attrition['DailyRate'].values\n",
    "# y = attrition['JobSatisfaction'].values\n",
    "# sns.kdeplot(x=x, y=y, cmap=cmap, shade=True,  ax=axes[1,1])\n",
    "# axes[1,1].set( title = 'Daily Rate against Job satisfaction')\n",
    "\n",
    "# cmap = sns.cubehelix_palette(start=1.666666666667, light=1, as_cmap=True)\n",
    "# # Generate and plot\n",
    "# x = attrition['YearsAtCompany'].values\n",
    "# y = attrition['JobSatisfaction'].values\n",
    "# sns.kdeplot(x=x, y=y, cmap=cmap, shade=True,  ax=axes[1,2])\n",
    "# axes[1,2].set( title = 'Daily Rate against distance')\n",
    "\n",
    "# cmap = sns.cubehelix_palette(start=2.0, light=1, as_cmap=True)\n",
    "# # Generate and plot\n",
    "# x = attrition['YearsAtCompany'].values\n",
    "# y = attrition['DailyRate'].values\n",
    "# sns.kdeplot(x=x, y=y, cmap=cmap, shade=True,  ax=axes[2,0])\n",
    "# axes[2,0].set( title = 'Years at company against Daily Rate')\n",
    "\n",
    "# cmap = sns.cubehelix_palette(start=2.333333333333, light=1, as_cmap=True)\n",
    "# # Generate and plot\n",
    "# x = attrition['RelationshipSatisfaction'].values\n",
    "# y = attrition['YearsWithCurrManager'].values\n",
    "# sns.kdeplot(x=x, y=y, cmap=cmap, shade=True,  ax=axes[2,1])\n",
    "# axes[2,1].set( title = 'Relationship Satisfaction vs years with manager')\n",
    "\n",
    "# cmap = sns.cubehelix_palette(start=2.666666666667, light=1, as_cmap=True)\n",
    "# # Generate and plot\n",
    "# x = attrition['WorkLifeBalance'].values\n",
    "# y = attrition['JobSatisfaction'].values\n",
    "# sns.kdeplot(x=x, y=y, cmap=cmap, shade=True,  ax=axes[2,2])\n",
    "# axes[2,2].set( title = 'WorklifeBalance against Satisfaction')\n",
    "\n",
    "# f.tight_layout()"
   ]
  },
  {
   "cell_type": "markdown",
   "metadata": {},
   "source": [
    "# Data Processing"
   ]
  },
  {
   "cell_type": "code",
   "execution_count": null,
   "metadata": {},
   "outputs": [],
   "source": [
    "# # Define a dictionary for the target mapping\n",
    "# target_map = {'Yes':1, 'No':0}\n",
    "\n",
    "# # Use the pandas apply method to numerically encode our attrition target variable\n",
    "# attrition[\"Attrition_numerical\"] = attrition[\"Attrition\"].apply(lambda x: target_map[x])"
   ]
  },
  {
   "cell_type": "markdown",
   "metadata": {},
   "source": [
    "# Feature Engineering"
   ]
  },
  {
   "cell_type": "markdown",
   "metadata": {},
   "source": [
    "plot some correlation for numerical feature\n",
    "\n",
    "numerical = [u'Age', u'DailyRate', u'DistanceFromHome', \n",
    "             u'Education', u'EmployeeNumber', u'EnvironmentSatisfaction',\n",
    "             u'HourlyRate', u'JobInvolvement', u'JobLevel', u'JobSatisfaction',\n",
    "             u'MonthlyIncome', u'MonthlyRate', u'NumCompaniesWorked',\n",
    "             u'PercentSalaryHike', u'PerformanceRating', u'RelationshipSatisfaction',\n",
    "             u'StockOptionLevel', u'TotalWorkingYears',\n",
    "             u'TrainingTimesLastYear', u'WorkLifeBalance', u'YearsAtCompany',\n",
    "             u'YearsInCurrentRole', u'YearsSinceLastPromotion',u'YearsWithCurrManager']"
   ]
  },
  {
   "cell_type": "markdown",
   "metadata": {},
   "source": [
    "Drop non numeric and find categorical and numerical colunn"
   ]
  },
  {
   "cell_type": "code",
   "execution_count": null,
   "metadata": {},
   "outputs": [],
   "source": [
    "# # Drop the Attrition_numerical column from attrition dataset first - Don't want to include that\n",
    "# attrition = attrition.drop(['Attrition_numerical'], axis=1)\n",
    "\n",
    "# Empty list to store columns with categorical data\n",
    "categorical = []\n",
    "for col, value in attrition.items():\n",
    "    if value.dtype == 'object':\n",
    "        categorical.append(col)\n",
    "\n",
    "# Store the numerical columns in a list numerical\n",
    "numerical = attrition.columns.difference(categorical)"
   ]
  },
  {
   "cell_type": "markdown",
   "metadata": {},
   "source": [
    "Encode Cat data "
   ]
  },
  {
   "cell_type": "code",
   "execution_count": null,
   "metadata": {},
   "outputs": [],
   "source": [
    "# Store the categorical data in a dataframe called attrition_cat\n",
    "attrition_cat = attrition[categorical]\n",
    "attrition_cat = attrition_cat.drop(['Attrition'], axis=1) # Dropping the target column\n",
    "\n",
    "attrition_num = attrition[numerical]\n"
   ]
  },
  {
   "cell_type": "code",
   "execution_count": null,
   "metadata": {},
   "outputs": [
    {
     "name": "stdout",
     "output_type": "stream",
     "text": [
      "Column: BusinessTravel\n",
      "Count: 3\n",
      "Column: Department\n",
      "Count: 3\n",
      "Column: EducationField\n",
      "Count: 6\n",
      "Column: Gender\n",
      "Count: 2\n",
      "Column: JobRole\n",
      "Count: 9\n",
      "Column: MaritalStatus\n",
      "Count: 3\n",
      "Column: Over18\n",
      "Count: 1\n",
      "Column: OverTime\n",
      "Count: 2\n"
     ]
    }
   ],
   "source": [
    "for col in attrition_cat:\n",
    "    print(f\"Column: {col}\\nCount: {attrition_cat[col].nunique()}\")"
   ]
  },
  {
   "cell_type": "code",
   "execution_count": null,
   "metadata": {},
   "outputs": [
    {
     "data": {
      "text/html": [
       "<div>\n",
       "<style scoped>\n",
       "    .dataframe tbody tr th:only-of-type {\n",
       "        vertical-align: middle;\n",
       "    }\n",
       "\n",
       "    .dataframe tbody tr th {\n",
       "        vertical-align: top;\n",
       "    }\n",
       "\n",
       "    .dataframe thead th {\n",
       "        text-align: right;\n",
       "    }\n",
       "</style>\n",
       "<table border=\"1\" class=\"dataframe\">\n",
       "  <thead>\n",
       "    <tr style=\"text-align: right;\">\n",
       "      <th></th>\n",
       "      <th>Age</th>\n",
       "      <th>DailyRate</th>\n",
       "      <th>DistanceFromHome</th>\n",
       "      <th>Education</th>\n",
       "      <th>EmployeeCount</th>\n",
       "      <th>EmployeeNumber</th>\n",
       "      <th>EnvironmentSatisfaction</th>\n",
       "      <th>HourlyRate</th>\n",
       "      <th>JobInvolvement</th>\n",
       "      <th>JobLevel</th>\n",
       "      <th>...</th>\n",
       "      <th>JobRole_Research Director</th>\n",
       "      <th>JobRole_Research Scientist</th>\n",
       "      <th>JobRole_Sales Executive</th>\n",
       "      <th>JobRole_Sales Representative</th>\n",
       "      <th>MaritalStatus_Divorced</th>\n",
       "      <th>MaritalStatus_Married</th>\n",
       "      <th>MaritalStatus_Single</th>\n",
       "      <th>Over18_Y</th>\n",
       "      <th>OverTime_No</th>\n",
       "      <th>OverTime_Yes</th>\n",
       "    </tr>\n",
       "  </thead>\n",
       "  <tbody>\n",
       "    <tr>\n",
       "      <th>0</th>\n",
       "      <td>44</td>\n",
       "      <td>528</td>\n",
       "      <td>1</td>\n",
       "      <td>3</td>\n",
       "      <td>1</td>\n",
       "      <td>1683</td>\n",
       "      <td>3</td>\n",
       "      <td>44</td>\n",
       "      <td>3</td>\n",
       "      <td>1</td>\n",
       "      <td>...</td>\n",
       "      <td>0.0</td>\n",
       "      <td>0.0</td>\n",
       "      <td>0.0</td>\n",
       "      <td>0.0</td>\n",
       "      <td>1.0</td>\n",
       "      <td>0.0</td>\n",
       "      <td>0.0</td>\n",
       "      <td>1.0</td>\n",
       "      <td>0.0</td>\n",
       "      <td>1.0</td>\n",
       "    </tr>\n",
       "    <tr>\n",
       "      <th>1</th>\n",
       "      <td>46</td>\n",
       "      <td>526</td>\n",
       "      <td>1</td>\n",
       "      <td>2</td>\n",
       "      <td>1</td>\n",
       "      <td>244</td>\n",
       "      <td>2</td>\n",
       "      <td>92</td>\n",
       "      <td>3</td>\n",
       "      <td>3</td>\n",
       "      <td>...</td>\n",
       "      <td>0.0</td>\n",
       "      <td>0.0</td>\n",
       "      <td>1.0</td>\n",
       "      <td>0.0</td>\n",
       "      <td>1.0</td>\n",
       "      <td>0.0</td>\n",
       "      <td>0.0</td>\n",
       "      <td>1.0</td>\n",
       "      <td>1.0</td>\n",
       "      <td>0.0</td>\n",
       "    </tr>\n",
       "    <tr>\n",
       "      <th>2</th>\n",
       "      <td>29</td>\n",
       "      <td>1246</td>\n",
       "      <td>19</td>\n",
       "      <td>3</td>\n",
       "      <td>1</td>\n",
       "      <td>1497</td>\n",
       "      <td>3</td>\n",
       "      <td>77</td>\n",
       "      <td>2</td>\n",
       "      <td>2</td>\n",
       "      <td>...</td>\n",
       "      <td>0.0</td>\n",
       "      <td>0.0</td>\n",
       "      <td>1.0</td>\n",
       "      <td>0.0</td>\n",
       "      <td>1.0</td>\n",
       "      <td>0.0</td>\n",
       "      <td>0.0</td>\n",
       "      <td>1.0</td>\n",
       "      <td>1.0</td>\n",
       "      <td>0.0</td>\n",
       "    </tr>\n",
       "    <tr>\n",
       "      <th>3</th>\n",
       "      <td>41</td>\n",
       "      <td>1018</td>\n",
       "      <td>1</td>\n",
       "      <td>3</td>\n",
       "      <td>1</td>\n",
       "      <td>1349</td>\n",
       "      <td>3</td>\n",
       "      <td>66</td>\n",
       "      <td>3</td>\n",
       "      <td>2</td>\n",
       "      <td>...</td>\n",
       "      <td>0.0</td>\n",
       "      <td>0.0</td>\n",
       "      <td>1.0</td>\n",
       "      <td>0.0</td>\n",
       "      <td>1.0</td>\n",
       "      <td>0.0</td>\n",
       "      <td>0.0</td>\n",
       "      <td>1.0</td>\n",
       "      <td>1.0</td>\n",
       "      <td>0.0</td>\n",
       "    </tr>\n",
       "    <tr>\n",
       "      <th>4</th>\n",
       "      <td>31</td>\n",
       "      <td>1079</td>\n",
       "      <td>16</td>\n",
       "      <td>4</td>\n",
       "      <td>1</td>\n",
       "      <td>1761</td>\n",
       "      <td>1</td>\n",
       "      <td>70</td>\n",
       "      <td>3</td>\n",
       "      <td>3</td>\n",
       "      <td>...</td>\n",
       "      <td>0.0</td>\n",
       "      <td>0.0</td>\n",
       "      <td>1.0</td>\n",
       "      <td>0.0</td>\n",
       "      <td>0.0</td>\n",
       "      <td>1.0</td>\n",
       "      <td>0.0</td>\n",
       "      <td>1.0</td>\n",
       "      <td>1.0</td>\n",
       "      <td>0.0</td>\n",
       "    </tr>\n",
       "    <tr>\n",
       "      <th>...</th>\n",
       "      <td>...</td>\n",
       "      <td>...</td>\n",
       "      <td>...</td>\n",
       "      <td>...</td>\n",
       "      <td>...</td>\n",
       "      <td>...</td>\n",
       "      <td>...</td>\n",
       "      <td>...</td>\n",
       "      <td>...</td>\n",
       "      <td>...</td>\n",
       "      <td>...</td>\n",
       "      <td>...</td>\n",
       "      <td>...</td>\n",
       "      <td>...</td>\n",
       "      <td>...</td>\n",
       "      <td>...</td>\n",
       "      <td>...</td>\n",
       "      <td>...</td>\n",
       "      <td>...</td>\n",
       "      <td>...</td>\n",
       "      <td>...</td>\n",
       "    </tr>\n",
       "    <tr>\n",
       "      <th>1171</th>\n",
       "      <td>37</td>\n",
       "      <td>1252</td>\n",
       "      <td>19</td>\n",
       "      <td>2</td>\n",
       "      <td>1</td>\n",
       "      <td>904</td>\n",
       "      <td>1</td>\n",
       "      <td>32</td>\n",
       "      <td>3</td>\n",
       "      <td>3</td>\n",
       "      <td>...</td>\n",
       "      <td>0.0</td>\n",
       "      <td>0.0</td>\n",
       "      <td>1.0</td>\n",
       "      <td>0.0</td>\n",
       "      <td>0.0</td>\n",
       "      <td>0.0</td>\n",
       "      <td>1.0</td>\n",
       "      <td>1.0</td>\n",
       "      <td>0.0</td>\n",
       "      <td>1.0</td>\n",
       "    </tr>\n",
       "    <tr>\n",
       "      <th>1172</th>\n",
       "      <td>37</td>\n",
       "      <td>674</td>\n",
       "      <td>13</td>\n",
       "      <td>3</td>\n",
       "      <td>1</td>\n",
       "      <td>1543</td>\n",
       "      <td>1</td>\n",
       "      <td>47</td>\n",
       "      <td>3</td>\n",
       "      <td>2</td>\n",
       "      <td>...</td>\n",
       "      <td>0.0</td>\n",
       "      <td>1.0</td>\n",
       "      <td>0.0</td>\n",
       "      <td>0.0</td>\n",
       "      <td>0.0</td>\n",
       "      <td>1.0</td>\n",
       "      <td>0.0</td>\n",
       "      <td>1.0</td>\n",
       "      <td>1.0</td>\n",
       "      <td>0.0</td>\n",
       "    </tr>\n",
       "    <tr>\n",
       "      <th>1173</th>\n",
       "      <td>32</td>\n",
       "      <td>371</td>\n",
       "      <td>19</td>\n",
       "      <td>3</td>\n",
       "      <td>1</td>\n",
       "      <td>1739</td>\n",
       "      <td>4</td>\n",
       "      <td>80</td>\n",
       "      <td>1</td>\n",
       "      <td>3</td>\n",
       "      <td>...</td>\n",
       "      <td>0.0</td>\n",
       "      <td>0.0</td>\n",
       "      <td>1.0</td>\n",
       "      <td>0.0</td>\n",
       "      <td>0.0</td>\n",
       "      <td>1.0</td>\n",
       "      <td>0.0</td>\n",
       "      <td>1.0</td>\n",
       "      <td>1.0</td>\n",
       "      <td>0.0</td>\n",
       "    </tr>\n",
       "    <tr>\n",
       "      <th>1174</th>\n",
       "      <td>32</td>\n",
       "      <td>604</td>\n",
       "      <td>8</td>\n",
       "      <td>3</td>\n",
       "      <td>1</td>\n",
       "      <td>1304</td>\n",
       "      <td>3</td>\n",
       "      <td>56</td>\n",
       "      <td>4</td>\n",
       "      <td>2</td>\n",
       "      <td>...</td>\n",
       "      <td>0.0</td>\n",
       "      <td>0.0</td>\n",
       "      <td>1.0</td>\n",
       "      <td>0.0</td>\n",
       "      <td>0.0</td>\n",
       "      <td>1.0</td>\n",
       "      <td>0.0</td>\n",
       "      <td>1.0</td>\n",
       "      <td>1.0</td>\n",
       "      <td>0.0</td>\n",
       "    </tr>\n",
       "    <tr>\n",
       "      <th>1175</th>\n",
       "      <td>36</td>\n",
       "      <td>1105</td>\n",
       "      <td>24</td>\n",
       "      <td>4</td>\n",
       "      <td>1</td>\n",
       "      <td>419</td>\n",
       "      <td>2</td>\n",
       "      <td>47</td>\n",
       "      <td>3</td>\n",
       "      <td>2</td>\n",
       "      <td>...</td>\n",
       "      <td>0.0</td>\n",
       "      <td>0.0</td>\n",
       "      <td>0.0</td>\n",
       "      <td>0.0</td>\n",
       "      <td>0.0</td>\n",
       "      <td>1.0</td>\n",
       "      <td>0.0</td>\n",
       "      <td>1.0</td>\n",
       "      <td>1.0</td>\n",
       "      <td>0.0</td>\n",
       "    </tr>\n",
       "  </tbody>\n",
       "</table>\n",
       "<p>1176 rows × 55 columns</p>\n",
       "</div>"
      ],
      "text/plain": [
       "      Age  DailyRate  DistanceFromHome  Education  EmployeeCount  \\\n",
       "0      44        528                 1          3              1   \n",
       "1      46        526                 1          2              1   \n",
       "2      29       1246                19          3              1   \n",
       "3      41       1018                 1          3              1   \n",
       "4      31       1079                16          4              1   \n",
       "...   ...        ...               ...        ...            ...   \n",
       "1171   37       1252                19          2              1   \n",
       "1172   37        674                13          3              1   \n",
       "1173   32        371                19          3              1   \n",
       "1174   32        604                 8          3              1   \n",
       "1175   36       1105                24          4              1   \n",
       "\n",
       "      EmployeeNumber  EnvironmentSatisfaction  HourlyRate  JobInvolvement  \\\n",
       "0               1683                        3          44               3   \n",
       "1                244                        2          92               3   \n",
       "2               1497                        3          77               2   \n",
       "3               1349                        3          66               3   \n",
       "4               1761                        1          70               3   \n",
       "...              ...                      ...         ...             ...   \n",
       "1171             904                        1          32               3   \n",
       "1172            1543                        1          47               3   \n",
       "1173            1739                        4          80               1   \n",
       "1174            1304                        3          56               4   \n",
       "1175             419                        2          47               3   \n",
       "\n",
       "      JobLevel  ...  JobRole_Research Director  JobRole_Research Scientist  \\\n",
       "0            1  ...                        0.0                         0.0   \n",
       "1            3  ...                        0.0                         0.0   \n",
       "2            2  ...                        0.0                         0.0   \n",
       "3            2  ...                        0.0                         0.0   \n",
       "4            3  ...                        0.0                         0.0   \n",
       "...        ...  ...                        ...                         ...   \n",
       "1171         3  ...                        0.0                         0.0   \n",
       "1172         2  ...                        0.0                         1.0   \n",
       "1173         3  ...                        0.0                         0.0   \n",
       "1174         2  ...                        0.0                         0.0   \n",
       "1175         2  ...                        0.0                         0.0   \n",
       "\n",
       "      JobRole_Sales Executive  JobRole_Sales Representative  \\\n",
       "0                         0.0                           0.0   \n",
       "1                         1.0                           0.0   \n",
       "2                         1.0                           0.0   \n",
       "3                         1.0                           0.0   \n",
       "4                         1.0                           0.0   \n",
       "...                       ...                           ...   \n",
       "1171                      1.0                           0.0   \n",
       "1172                      0.0                           0.0   \n",
       "1173                      1.0                           0.0   \n",
       "1174                      1.0                           0.0   \n",
       "1175                      0.0                           0.0   \n",
       "\n",
       "      MaritalStatus_Divorced  MaritalStatus_Married  MaritalStatus_Single  \\\n",
       "0                        1.0                    0.0                   0.0   \n",
       "1                        1.0                    0.0                   0.0   \n",
       "2                        1.0                    0.0                   0.0   \n",
       "3                        1.0                    0.0                   0.0   \n",
       "4                        0.0                    1.0                   0.0   \n",
       "...                      ...                    ...                   ...   \n",
       "1171                     0.0                    0.0                   1.0   \n",
       "1172                     0.0                    1.0                   0.0   \n",
       "1173                     0.0                    1.0                   0.0   \n",
       "1174                     0.0                    1.0                   0.0   \n",
       "1175                     0.0                    1.0                   0.0   \n",
       "\n",
       "      Over18_Y  OverTime_No  OverTime_Yes  \n",
       "0          1.0          0.0           1.0  \n",
       "1          1.0          1.0           0.0  \n",
       "2          1.0          1.0           0.0  \n",
       "3          1.0          1.0           0.0  \n",
       "4          1.0          1.0           0.0  \n",
       "...        ...          ...           ...  \n",
       "1171       1.0          0.0           1.0  \n",
       "1172       1.0          1.0           0.0  \n",
       "1173       1.0          1.0           0.0  \n",
       "1174       1.0          1.0           0.0  \n",
       "1175       1.0          1.0           0.0  \n",
       "\n",
       "[1176 rows x 55 columns]"
      ]
     },
     "execution_count": null,
     "metadata": {},
     "output_type": "execute_result"
    }
   ],
   "source": [
    "# Step 1: Create OneHotEncoder with handle_unknown='ignore'\n",
    "from sklearn.preprocessing import OneHotEncoder\n",
    "\n",
    "ohe = OneHotEncoder()\n",
    "\n",
    "# Step 2: Fit the encoder on the extracted categorical columns\n",
    "ohe.fit(attrition_cat)\n",
    "\n",
    "categories = ohe.categories_\n",
    "feature_names = ohe.get_feature_names_out()\n",
    "\n",
    "\n",
    "# Step 4: Transform the original DataFrame\n",
    "df_encoded = ohe.transform(attrition_cat).toarray()\n",
    "\n",
    "\n",
    "# If you want to create a DataFrame with feature names\n",
    "df_encoded_cat = pd.DataFrame(df_encoded, columns=feature_names)\n",
    "\n",
    "# Reset indices if needed\n",
    "attrition_num = attrition_num.reset_index(drop=True)\n",
    "df_encoded_cat = df_encoded_cat.reset_index(drop=True)\n",
    "\n",
    "# Concatenate the one-hot encoded DataFrame with the original DataFrame\n",
    "attrition_final = pd.concat([attrition_num, df_encoded_cat], axis=1)\n",
    "attrition_final\n",
    "# # Step 3: Save the encoder using joblib\n",
    "# joblib.dump(ohe, 'encoder.joblib')"
   ]
  },
  {
   "cell_type": "code",
   "execution_count": null,
   "metadata": {},
   "outputs": [],
   "source": [
    "# # Store the categorical data in a dataframe called attrition_cat\n",
    "# attrition_cat = attrition[categorical]\n",
    "# attrition_cat = attrition_cat.drop(['Attrition'], axis=1) # Dropping the target column\n",
    "\n",
    "# attrition_cat = pd.get_dummies(attrition_cat)\n",
    "\n",
    "# # Store the numerical features to a dataframe attrition_num\n",
    "# attrition_num = attrition[numerical]\n",
    "\n",
    "# # Concat the two dataframes together columnwise\n",
    "# attrition_final = pd.concat([attrition_num, attrition_cat], axis=1)\n",
    "# attrition_final"
   ]
  },
  {
   "cell_type": "markdown",
   "metadata": {},
   "source": [
    "## Training\n"
   ]
  },
  {
   "cell_type": "code",
   "execution_count": null,
   "metadata": {},
   "outputs": [],
   "source": [
    "import os\n",
    "import random\n",
    "\n",
    "from pandas import DataFrame"
   ]
  },
  {
   "cell_type": "code",
   "execution_count": null,
   "metadata": {},
   "outputs": [],
   "source": [
    "def set_seeds(seed=42):\n",
    "    \"\"\"Set seeds for reproducibility.\"\"\"\n",
    "    np.random.seed(seed)\n",
    "    random.seed(seed)\n",
    "    os.environ[\"PYTHONHASHSEED\"] = str(seed)"
   ]
  },
  {
   "cell_type": "code",
   "execution_count": null,
   "metadata": {},
   "outputs": [],
   "source": [
    "def load_data():\n",
    "    data_path = \"../data/processed/HR_Employee_data.csv\"\n",
    "    df = pd.read_csv(data_path)\n",
    "    ds = df.sample(frac=1, random_state=2023)\n",
    "    return ds"
   ]
  },
  {
   "cell_type": "code",
   "execution_count": null,
   "metadata": {},
   "outputs": [
    {
     "data": {
      "text/plain": [
       "Index(['Age', 'DailyRate', 'DistanceFromHome', 'Education', 'EmployeeCount',\n",
       "       'EmployeeNumber', 'EnvironmentSatisfaction', 'HourlyRate',\n",
       "       'JobInvolvement', 'JobLevel', 'JobSatisfaction', 'MonthlyIncome',\n",
       "       'MonthlyRate', 'NumCompaniesWorked', 'PercentSalaryHike',\n",
       "       'PerformanceRating', 'RelationshipSatisfaction', 'StandardHours',\n",
       "       'StockOptionLevel', 'TotalWorkingYears', 'TrainingTimesLastYear',\n",
       "       'WorkLifeBalance', 'YearsAtCompany', 'YearsInCurrentRole',\n",
       "       'YearsSinceLastPromotion', 'YearsWithCurrManager',\n",
       "       'BusinessTravel_Non-Travel', 'BusinessTravel_Travel_Frequently',\n",
       "       'BusinessTravel_Travel_Rarely', 'Department_Human Resources',\n",
       "       'Department_Research & Development', 'Department_Sales',\n",
       "       'EducationField_Human Resources', 'EducationField_Life Sciences',\n",
       "       'EducationField_Marketing', 'EducationField_Medical',\n",
       "       'EducationField_Other', 'EducationField_Technical Degree',\n",
       "       'Gender_Female', 'Gender_Male', 'JobRole_Healthcare Representative',\n",
       "       'JobRole_Human Resources', 'JobRole_Laboratory Technician',\n",
       "       'JobRole_Manager', 'JobRole_Manufacturing Director',\n",
       "       'JobRole_Research Director', 'JobRole_Research Scientist',\n",
       "       'JobRole_Sales Executive', 'JobRole_Sales Representative',\n",
       "       'MaritalStatus_Divorced', 'MaritalStatus_Married',\n",
       "       'MaritalStatus_Single', 'Over18_Y', 'OverTime_No', 'OverTime_Yes'],\n",
       "      dtype='object')"
      ]
     },
     "execution_count": null,
     "metadata": {},
     "output_type": "execute_result"
    }
   ],
   "source": [
    "attrition_final.columns"
   ]
  },
  {
   "cell_type": "code",
   "execution_count": null,
   "metadata": {},
   "outputs": [
    {
     "data": {
      "text/plain": [
       "Index(['Age', 'Attrition', 'BusinessTravel', 'DailyRate', 'Department',\n",
       "       'DistanceFromHome', 'Education', 'EducationField', 'EmployeeCount',\n",
       "       'EmployeeNumber', 'EnvironmentSatisfaction', 'Gender', 'HourlyRate',\n",
       "       'JobInvolvement', 'JobLevel', 'JobRole', 'JobSatisfaction',\n",
       "       'MaritalStatus', 'MonthlyIncome', 'MonthlyRate', 'NumCompaniesWorked',\n",
       "       'Over18', 'OverTime', 'PercentSalaryHike', 'PerformanceRating',\n",
       "       'RelationshipSatisfaction', 'StandardHours', 'StockOptionLevel',\n",
       "       'TotalWorkingYears', 'TrainingTimesLastYear', 'WorkLifeBalance',\n",
       "       'YearsAtCompany', 'YearsInCurrentRole', 'YearsSinceLastPromotion',\n",
       "       'YearsWithCurrManager'],\n",
       "      dtype='object')"
      ]
     },
     "execution_count": null,
     "metadata": {},
     "output_type": "execute_result"
    }
   ],
   "source": [
    "train_df.columns"
   ]
  },
  {
   "cell_type": "code",
   "execution_count": null,
   "metadata": {},
   "outputs": [],
   "source": [
    "import joblib\n",
    "\n",
    "\n",
    "def preprocess(attrition: DataFrame, test=False, save_encoder=False) -> DataFrame:\n",
    "    if not test:\n",
    "        # Define a dictionary for the target mapping\n",
    "        target_map = {'Yes':1, 'No':0}\n",
    "        # Use the pandas apply method to numerically encode our attrition target variable\n",
    "        target = attrition[\"Attrition\"].apply(lambda x: target_map[x])\n",
    "    \n",
    "\n",
    "    attrition.drop(columns=[\"Attrition\"], inplace=True)\n",
    "    \n",
    "    # Empty list to store columns with categorical data\n",
    "    categorical = []\n",
    "    for col, value in attrition.items():\n",
    "        if value.dtype == 'object':\n",
    "            categorical.append(col)\n",
    "\n",
    "    # Store the numerical columns in a list numerical\n",
    "    numerical = attrition.columns.difference(categorical)\n",
    "\n",
    "    # Store the categorical data in a dataframe called attrition_cat\n",
    "    attrition_cat = attrition[categorical]\n",
    "\n",
    "    # Store the numerical features to a dataframe attrition_num\n",
    "    attrition_num = attrition[numerical]\n",
    "    \n",
    "\n",
    "    ohe = OneHotEncoder()\n",
    "\n",
    "    # Step 2: Fit the encoder on the extracted categorical columns\n",
    "    ohe.fit(attrition_cat)\n",
    "\n",
    "    categories = ohe.categories_\n",
    "    feature_names = ohe.get_feature_names_out()\n",
    "\n",
    "    if save_encoder:\n",
    "        joblib.dump(ohe, '../model/saved_encoder/encoder.joblib')\n",
    "\n",
    "\n",
    "    # Step 4: Transform the original DataFrame\n",
    "    df_encoded = ohe.transform(attrition_cat).toarray()\n",
    "\n",
    "\n",
    "    # If you want to create a DataFrame with feature names\n",
    "    df_encoded_cat = pd.DataFrame(df_encoded, columns=feature_names)\n",
    "\n",
    "    # Reset indices if needed\n",
    "    attrition_num = attrition_num.reset_index(drop=True)\n",
    "    df_encoded_cat = df_encoded_cat.reset_index(drop=True)\n",
    "\n",
    "    # Concatenate the one-hot encoded DataFrame with the original DataFrame\n",
    "    attrition_final = pd.concat([attrition_num, df_encoded_cat], axis=1)\n",
    "    \n",
    "    \n",
    "    #attrition_final['target'] = target\n",
    "    return attrition_final, target"
   ]
  },
  {
   "cell_type": "code",
   "execution_count": null,
   "metadata": {},
   "outputs": [],
   "source": [
    "# def preprocess(attrition: DataFrame) -> DataFrame:\n",
    "#     # Empty list to store columns with categorical data\n",
    "#     categorical = []\n",
    "#     for col, value in attrition.items():\n",
    "#         if value.dtype == 'object':\n",
    "#             categorical.append(col)\n",
    "\n",
    "#     # Store the numerical columns in a list numerical\n",
    "#     numerical = attrition.columns.difference(categorical)\n",
    "\n",
    "#     # Store the categorical data in a dataframe called attrition_cat\n",
    "#     attrition_cat = attrition[categorical]\n",
    "#     attrition_cat = attrition_cat.drop(['Attrition'], axis=1) # Dropping the target column\n",
    "#     attrition_cat = pd.get_dummies(attrition_cat)\n",
    "\n",
    "#     # Store the numerical features to a dataframe attrition_num\n",
    "#     attrition_num = attrition[numerical]\n",
    "#     # Concat the two dataframes together columnwise\n",
    "#     attrition_final = pd.concat([attrition_num, attrition_cat], axis=1)\n",
    "\n",
    "#     # Define a dictionary for the target mapping\n",
    "#     target_map = {'Yes':1, 'No':0}\n",
    "#     # Use the pandas apply method to numerically encode our attrition target variable\n",
    "#     target = attrition[\"Attrition\"].apply(lambda x: target_map[x])\n",
    "#     #attrition_final['target'] = target\n",
    "#     return attrition_final, target"
   ]
  },
  {
   "cell_type": "markdown",
   "metadata": {},
   "source": [
    "## Model"
   ]
  },
  {
   "cell_type": "code",
   "execution_count": null,
   "metadata": {},
   "outputs": [],
   "source": [
    "from sklearn.ensemble import RandomForestClassifier, GradientBoostingClassifier\n",
    "from sklearn.linear_model import LogisticRegression\n",
    "from sklearn.metrics import (accuracy_score, log_loss, classification_report)\n",
    "from imblearn.over_sampling import SMOTE\n",
    "import xgboost\n",
    "\n",
    "seed = 0   # We set our random seed to zero for reproducibility\n",
    "# Random Forest parameters\n",
    "rf_params = {\n",
    "    'n_jobs': -1,\n",
    "    'n_estimators': 1000,\n",
    "#     'warm_start': True, \n",
    "    'max_features': 0.3,\n",
    "    'max_depth': 4,\n",
    "    'min_samples_leaf': 2,\n",
    "    'max_features' : 'sqrt',\n",
    "    'random_state' : seed,\n",
    "    'verbose': 0\n",
    "}\n",
    "rf = RandomForestClassifier(**rf_params)"
   ]
  },
  {
   "cell_type": "code",
   "execution_count": null,
   "metadata": {},
   "outputs": [],
   "source": [
    "ds = load_data()\n",
    "tran_ds, val_ds, test_ds = stratify_split(df)\n",
    "\n",
    "train_X, train_Y = preprocess(tran_ds)\n",
    "val_X, val_Y = preprocess(val_ds)"
   ]
  },
  {
   "cell_type": "code",
   "execution_count": null,
   "metadata": {},
   "outputs": [],
   "source": [
    "oversampler=SMOTE(sampling_strategy='auto',random_state=0)\n",
    "smote_train, smote_target = oversampler.fit_resample(train_X,train_Y)"
   ]
  },
  {
   "cell_type": "code",
   "execution_count": null,
   "metadata": {},
   "outputs": [
    {
     "name": "stdout",
     "output_type": "stream",
     "text": [
      "CPU times: user 1.28 s, sys: 596 ms, total: 1.87 s\n",
      "Wall time: 672 ms\n"
     ]
    },
    {
     "data": {
      "text/html": [
       "<style>#sk-container-id-5 {color: black;}#sk-container-id-5 pre{padding: 0;}#sk-container-id-5 div.sk-toggleable {background-color: white;}#sk-container-id-5 label.sk-toggleable__label {cursor: pointer;display: block;width: 100%;margin-bottom: 0;padding: 0.3em;box-sizing: border-box;text-align: center;}#sk-container-id-5 label.sk-toggleable__label-arrow:before {content: \"▸\";float: left;margin-right: 0.25em;color: #696969;}#sk-container-id-5 label.sk-toggleable__label-arrow:hover:before {color: black;}#sk-container-id-5 div.sk-estimator:hover label.sk-toggleable__label-arrow:before {color: black;}#sk-container-id-5 div.sk-toggleable__content {max-height: 0;max-width: 0;overflow: hidden;text-align: left;background-color: #f0f8ff;}#sk-container-id-5 div.sk-toggleable__content pre {margin: 0.2em;color: black;border-radius: 0.25em;background-color: #f0f8ff;}#sk-container-id-5 input.sk-toggleable__control:checked~div.sk-toggleable__content {max-height: 200px;max-width: 100%;overflow: auto;}#sk-container-id-5 input.sk-toggleable__control:checked~label.sk-toggleable__label-arrow:before {content: \"▾\";}#sk-container-id-5 div.sk-estimator input.sk-toggleable__control:checked~label.sk-toggleable__label {background-color: #d4ebff;}#sk-container-id-5 div.sk-label input.sk-toggleable__control:checked~label.sk-toggleable__label {background-color: #d4ebff;}#sk-container-id-5 input.sk-hidden--visually {border: 0;clip: rect(1px 1px 1px 1px);clip: rect(1px, 1px, 1px, 1px);height: 1px;margin: -1px;overflow: hidden;padding: 0;position: absolute;width: 1px;}#sk-container-id-5 div.sk-estimator {font-family: monospace;background-color: #f0f8ff;border: 1px dotted black;border-radius: 0.25em;box-sizing: border-box;margin-bottom: 0.5em;}#sk-container-id-5 div.sk-estimator:hover {background-color: #d4ebff;}#sk-container-id-5 div.sk-parallel-item::after {content: \"\";width: 100%;border-bottom: 1px solid gray;flex-grow: 1;}#sk-container-id-5 div.sk-label:hover label.sk-toggleable__label {background-color: #d4ebff;}#sk-container-id-5 div.sk-serial::before {content: \"\";position: absolute;border-left: 1px solid gray;box-sizing: border-box;top: 0;bottom: 0;left: 50%;z-index: 0;}#sk-container-id-5 div.sk-serial {display: flex;flex-direction: column;align-items: center;background-color: white;padding-right: 0.2em;padding-left: 0.2em;position: relative;}#sk-container-id-5 div.sk-item {position: relative;z-index: 1;}#sk-container-id-5 div.sk-parallel {display: flex;align-items: stretch;justify-content: center;background-color: white;position: relative;}#sk-container-id-5 div.sk-item::before, #sk-container-id-5 div.sk-parallel-item::before {content: \"\";position: absolute;border-left: 1px solid gray;box-sizing: border-box;top: 0;bottom: 0;left: 50%;z-index: -1;}#sk-container-id-5 div.sk-parallel-item {display: flex;flex-direction: column;z-index: 1;position: relative;background-color: white;}#sk-container-id-5 div.sk-parallel-item:first-child::after {align-self: flex-end;width: 50%;}#sk-container-id-5 div.sk-parallel-item:last-child::after {align-self: flex-start;width: 50%;}#sk-container-id-5 div.sk-parallel-item:only-child::after {width: 0;}#sk-container-id-5 div.sk-dashed-wrapped {border: 1px dashed gray;margin: 0 0.4em 0.5em 0.4em;box-sizing: border-box;padding-bottom: 0.4em;background-color: white;}#sk-container-id-5 div.sk-label label {font-family: monospace;font-weight: bold;display: inline-block;line-height: 1.2em;}#sk-container-id-5 div.sk-label-container {text-align: center;}#sk-container-id-5 div.sk-container {/* jupyter's `normalize.less` sets `[hidden] { display: none; }` but bootstrap.min.css set `[hidden] { display: none !important; }` so we also need the `!important` here to be able to override the default hidden behavior on the sphinx rendered scikit-learn.org. See: https://github.com/scikit-learn/scikit-learn/issues/21755 */display: inline-block !important;position: relative;}#sk-container-id-5 div.sk-text-repr-fallback {display: none;}</style><div id=\"sk-container-id-5\" class=\"sk-top-container\"><div class=\"sk-text-repr-fallback\"><pre>RandomForestClassifier(max_depth=4, min_samples_leaf=2, n_estimators=1000,\n",
       "                       n_jobs=-1, random_state=0)</pre><b>In a Jupyter environment, please rerun this cell to show the HTML representation or trust the notebook. <br />On GitHub, the HTML representation is unable to render, please try loading this page with nbviewer.org.</b></div><div class=\"sk-container\" hidden><div class=\"sk-item\"><div class=\"sk-estimator sk-toggleable\"><input class=\"sk-toggleable__control sk-hidden--visually\" id=\"sk-estimator-id-5\" type=\"checkbox\" checked><label for=\"sk-estimator-id-5\" class=\"sk-toggleable__label sk-toggleable__label-arrow\">RandomForestClassifier</label><div class=\"sk-toggleable__content\"><pre>RandomForestClassifier(max_depth=4, min_samples_leaf=2, n_estimators=1000,\n",
       "                       n_jobs=-1, random_state=0)</pre></div></div></div></div></div>"
      ],
      "text/plain": [
       "RandomForestClassifier(max_depth=4, min_samples_leaf=2, n_estimators=1000,\n",
       "                       n_jobs=-1, random_state=0)"
      ]
     },
     "execution_count": null,
     "metadata": {},
     "output_type": "execute_result"
    }
   ],
   "source": [
    "%%time\n",
    "# Train\n",
    "rf.fit(smote_train, smote_target)"
   ]
  },
  {
   "cell_type": "code",
   "execution_count": null,
   "metadata": {},
   "outputs": [
    {
     "name": "stdout",
     "output_type": "stream",
     "text": [
      "Accuracy score: 0.8843537414965986\n",
      "================================================================================\n",
      "              precision    recall  f1-score   support\n",
      "\n",
      "           0       0.91      0.95      0.93       124\n",
      "           1       0.67      0.52      0.59        23\n",
      "\n",
      "    accuracy                           0.88       147\n",
      "   macro avg       0.79      0.74      0.76       147\n",
      "weighted avg       0.88      0.88      0.88       147\n",
      "\n"
     ]
    }
   ],
   "source": [
    "rf_predictions = rf.predict(val_X)\n",
    "print(\"Accuracy score: {}\".format(accuracy_score(val_Y, rf_predictions)))\n",
    "print(\"=\"*80)\n",
    "print(classification_report(val_Y, rf_predictions))"
   ]
  },
  {
   "cell_type": "code",
   "execution_count": null,
   "metadata": {},
   "outputs": [],
   "source": [
    "index_to_class = {1: \"Yes\" , 0: \"No\"}\n",
    "class_to_index = {\"Yes\": 1, \"No\": 0}\n",
    "\n",
    "def format_prob(prob, index_to_class):\n",
    "    d = {}\n",
    "    for i, item in enumerate(prob):\n",
    "        d[index_to_class[i]] = item\n",
    "    return d"
   ]
  },
  {
   "cell_type": "code",
   "execution_count": null,
   "metadata": {},
   "outputs": [],
   "source": [
    "rf_predictions = rf.predict(val_X)\n",
    "rf_probabilities = rf.predict_proba(val_X)\n",
    "results = []\n",
    "for i, prob in enumerate(rf_probabilities):\n",
    "    pred_y = index_to_class[prob.argmax()]\n",
    "    results.append({\"prediction\": pred_y, \"probabilities\": format_prob(prob, index_to_class)})\n"
   ]
  },
  {
   "cell_type": "code",
   "execution_count": null,
   "metadata": {},
   "outputs": [],
   "source": [
    "# # Get feature importances\n",
    "# feature_importances = rf.feature_importances_\n",
    "\n",
    "# # Create a DataFrame to display feature importances\n",
    "# feature_importance_df = pd.DataFrame({\n",
    "#     'Feature': attrition_final.columns.values,\n",
    "#     'Importance': feature_importances\n",
    "# })\n",
    "\n",
    "# # Sort DataFrame by importance in descending order\n",
    "# feature_importance_df = feature_importance_df.sort_values(by='Importance', ascending=False)\n",
    "\n",
    "# # Print the feature importance\n",
    "# print(\"Feature Importance:\")\n",
    "# print(feature_importance_df)"
   ]
  },
  {
   "cell_type": "code",
   "execution_count": null,
   "metadata": {},
   "outputs": [],
   "source": [
    "# import ipywidgets as widgets\n",
    "# from IPython.display import display, Image\n",
    "# from sklearn.tree import plot_tree\n",
    "\n",
    "# def visualize_tree_interactive(rf, feature_names, tree_index):\n",
    "#     # Visualize the selected tree\n",
    "#     tree = rf.estimators_[tree_index]\n",
    "#     plt.figure(figsize=(20, 10))\n",
    "#     tree_viz = plot_tree(tree, feature_names=feature_names, filled=True, rounded=True, class_names=True)\n",
    "    \n",
    "#     # Save the visualization to a file\n",
    "#     image_path = \"tree_viz.png\"\n",
    "#     plt.savefig(image_path, format='png')\n",
    "#     plt.close()\n",
    "\n",
    "#     # Display the visualization using the Image widget\n",
    "#     image_widget = Image(filename=image_path)\n",
    "#     display(image_widget)\n",
    "\n",
    "# def on_tree_index_change(change):\n",
    "#     # Callback function when the tree index changes\n",
    "#     visualize_tree_interactive(rf, feature_names, change.new)\n",
    "\n",
    "# # Assume rf and feature_names are already defined\n",
    "\n",
    "# # Create a widget for selecting the tree index\n",
    "# max_tree_index = len(rf.estimators_) - 1\n",
    "# tree_index_selector = widgets.IntSlider(value=0, min=0, max=max_tree_index, step=1, description='Tree Index:')\n",
    "# tree_index_selector.observe(on_tree_index_change, names='value')\n",
    "\n",
    "# feature_names = attrition_final.columns.values\n",
    "# # Display the initial tree visualization\n",
    "# visualize_tree_interactive(rf, feature_names, tree_index_selector.value)\n",
    "\n",
    "# # Display the widget\n",
    "# display(tree_index_selector)"
   ]
  },
  {
   "cell_type": "markdown",
   "metadata": {},
   "source": [
    "## Tracking Implementation"
   ]
  },
  {
   "cell_type": "code",
   "execution_count": null,
   "metadata": {},
   "outputs": [],
   "source": [
    "import mlflow\n",
    "from pathlib import Path\n",
    "import time "
   ]
  },
  {
   "cell_type": "markdown",
   "metadata": {},
   "source": [
    "Windows:\n",
    "\n",
    "MLFLOW_TRACKING_URI = \"file:///\" + str(MODEL_REGISTRY.absolute())\n"
   ]
  },
  {
   "cell_type": "code",
   "execution_count": null,
   "metadata": {},
   "outputs": [],
   "source": []
  },
  {
   "cell_type": "code",
   "execution_count": null,
   "metadata": {},
   "outputs": [],
   "source": [
    "ROOT_DIR = Path(os.path.abspath('..'))\n",
    "EFS_DIR = Path(f\"/efs/shared_storage/attrition_pred/{os.environ.get('GITHUB_USERNAME', '')}\")\n",
    "try:\n",
    "    Path(EFS_DIR).mkdir(parents=True, exist_ok=True)\n",
    "except OSError:\n",
    "    EFS_DIR = Path(ROOT_DIR, \"efs\")\n",
    "    Path(EFS_DIR).mkdir(parents=True, exist_ok=True)\n",
    "\n",
    "# Config MLflow\n",
    "MODEL_REGISTRY = Path(f\"{EFS_DIR}/mlflow\")\n",
    "Path(MODEL_REGISTRY).mkdir(parents=True, exist_ok=True)\n",
    "MLFLOW_TRACKING_URI = \"file://\" + str(MODEL_REGISTRY.absolute())\n",
    "MLFLOW_TRACKING_URI = \"file://\" + str(MODEL_REGISTRY.absolute())\n",
    "mlflow.set_tracking_uri(MLFLOW_TRACKING_URI)"
   ]
  },
  {
   "cell_type": "code",
   "execution_count": null,
   "metadata": {},
   "outputs": [],
   "source": [
    "# MODEL_REGISTRY = Path(os.path.join(os.path.abspath('..'),\"log\", \"mlflow\"))\n",
    "# Path(MODEL_REGISTRY).mkdir(parents=True, exist_ok=True)\n",
    "# MLFLOW_TRACKING_URI = \"file://\" + str(MODEL_REGISTRY.absolute())\n",
    "\n",
    "# mlflow.set_tracking_uri(MLFLOW_TRACKING_URI)"
   ]
  },
  {
   "cell_type": "code",
   "execution_count": null,
   "metadata": {},
   "outputs": [
    {
     "name": "stdout",
     "output_type": "stream",
     "text": [
      "file:///Users/bibekkarki/Desktop/UT-Courses /Learning/hr_ibm-madewithML/efs/mlflow\n"
     ]
    }
   ],
   "source": [
    "print(MLFLOW_TRACKING_URI)"
   ]
  },
  {
   "cell_type": "code",
   "execution_count": null,
   "metadata": {},
   "outputs": [],
   "source": [
    "# # MLflow callback\n",
    "# experiment_name = f\"Enp_Retention(IBM)-{int(time.time())}\"\n",
    "# print(experiment_name)"
   ]
  },
  {
   "cell_type": "code",
   "execution_count": null,
   "metadata": {},
   "outputs": [
    {
     "name": "stdout",
     "output_type": "stream",
     "text": [
      "attrition_pred\n"
     ]
    }
   ],
   "source": [
    "# MLflow callback\n",
    "experiment_name = f\"attrition_pred\"\n",
    "print(experiment_name)"
   ]
  },
  {
   "cell_type": "code",
   "execution_count": null,
   "metadata": {},
   "outputs": [],
   "source": [
    "from sklearn.ensemble import RandomForestClassifier\n",
    "from sklearn.metrics import accuracy_score, log_loss, classification_report, confusion_matrix\n",
    "from imblearn.over_sampling import SMOTE\n",
    "import pandas as pd\n",
    "from pandas import DataFrame\n",
    "import json\n",
    "from io import BytesIO\n",
    "\n",
    "from mlflow import set_experiment, start_run, log_param, log_metric, log_artifacts, end_run\n",
    "from typing import Optional, Dict\n",
    "import mlflow\n",
    "import joblib\n",
    "\n",
    "class MLflowLogger:\n",
    "    def __init__(\n",
    "        self,\n",
    "        experiment_name: Optional[str] = None,\n",
    "        description: Optional[str] = None,\n",
    "        tags: Optional[Dict] = None,\n",
    "        save_model: Optional[bool] = True,\n",
    "    ):\n",
    "        self.experiment_name = experiment_name\n",
    "        self.description = description\n",
    "        self.tags = tags\n",
    "        self.save_model = save_model\n",
    "        # Setup mlflow\n",
    "        self.setup_mlflow()\n",
    "\n",
    "    def setup_mlflow(self):\n",
    "        set_experiment(self.experiment_name)\n",
    "\n",
    "    def start_run(self):\n",
    "        # Start a run after setting up the experiment\n",
    "        with start_run(run_name=self.experiment_name, tags=self.tags):\n",
    "            pass\n",
    "\n",
    "    def end_run(self):\n",
    "        end_run()\n",
    "\n",
    "    def log_param(self, key: str, value):\n",
    "        log_param(key, value)\n",
    "\n",
    "    def log_metric(self, key: str, value):\n",
    "        log_metric(key, value)\n",
    "\n",
    "    def log_transformation(self, transformation_name, details):\n",
    "        parent_key = \"Data Transformation\"\n",
    "        mlflow.log_param(f\"{parent_key}/{transformation_name}_details\", details)\n",
    "        mlflow.set_tag(f\"{parent_key}/{transformation_name}_applied\", \"true\")\n",
    "\n",
    "    def save_artifacts(self, artifacts: dict):\n",
    "        try:\n",
    "            # Log each artifact individually\n",
    "            for artifact_name, artifact_path in artifacts.items():\n",
    "                log_artifacts(artifact_path, artifact_name)\n",
    "        except Exception as e:\n",
    "            print(f\"Failed to save artifacts: {e}\")\n",
    "\n",
    "\n",
    "    def finish_run(self, failed: bool = False):\n",
    "        status = \"FINISHED\" if not failed else \"FAILED\"\n",
    "        end_run(status=status)"
   ]
  },
  {
   "cell_type": "code",
   "execution_count": null,
   "metadata": {},
   "outputs": [
    {
     "name": "stderr",
     "output_type": "stream",
     "text": [
      "2023/12/18 14:13:54 INFO mlflow.tracking.fluent: Experiment with name 'attrition_pred' does not exist. Creating a new experiment.\n"
     ]
    },
    {
     "name": "stdout",
     "output_type": "stream",
     "text": [
      "Training Ended Sucessfully\n"
     ]
    }
   ],
   "source": [
    "\n",
    "expirement_description = \"\"\"Random Forrest Applied.\n",
    "Label encoding and other details.\n",
    "\"\"\"\n",
    "# Instantiate your MLflow logger\n",
    "mlflow_logger = MLflowLogger(experiment_name=experiment_name, description=expirement_description)\n",
    "\n",
    "# Start the run after setting up the experiment\n",
    "mlflow_logger.start_run()\n",
    "\n",
    "# Transformation\n",
    "label_encoding_details = \"Label encoding applied to categorical columns.\"\n",
    "mlflow_logger.log_transformation(\"label_encoding\", label_encoding_details)\n",
    "\n",
    "# Log your parameters\n",
    "mlflow_logger.log_param(\"n_estimators\", rf_params['n_estimators'])\n",
    "mlflow_logger.log_param(\"max_features\", rf_params['max_features'])\n",
    "mlflow_logger.log_param(\"max_depth\", rf_params['max_depth'])\n",
    "mlflow_logger.log_param(\"min_samples_leaf\", rf_params['min_samples_leaf'])\n",
    "\n",
    "try:\n",
    "    # ... Your training code here ...\n",
    "    rf = RandomForestClassifier(**rf_params)\n",
    "\n",
    "    ds = load_data()\n",
    "    tran_ds, val_ds, test_ds = stratify_split(df)\n",
    "    \n",
    "    train_X, train_Y = preprocess(tran_ds, save_encoder=True)\n",
    "    val_X, val_Y = preprocess(val_ds)\n",
    "\n",
    "    oversampler=SMOTE(sampling_strategy='auto',random_state=0)\n",
    "    smote_train, smote_target = oversampler.fit_resample(train_X,train_Y)\n",
    "\n",
    "    rf.fit(smote_train, smote_target)\n",
    "\n",
    "    if mlflow_logger.save_model:\n",
    "        joblib.dump(rf, '../model/saved_model/random_forest_model.joblib')\n",
    "\n",
    "\n",
    "    rf_predictions = rf.predict(val_X)\n",
    "    rf_probabilities = rf.predict_proba(val_X)\n",
    "\n",
    "    results = [{\"prediction\": index_to_class[prob.argmax()], \"probabilities\": format_prob(prob, index_to_class)} for prob in rf_probabilities]\n",
    "\n",
    "\n",
    "    # Get feature importances\n",
    "    feature_importances = rf.feature_importances_\n",
    "\n",
    "\n",
    "    # Log accuracy score\n",
    "    accuracy = accuracy_score(val_Y, rf_predictions)\n",
    "    mlflow_logger.log_metric(\"accuracy\", accuracy)\n",
    "\n",
    "    # Log classification report\n",
    "    report_dict = classification_report(val_Y, rf_predictions, output_dict=True)\n",
    "    for metric, value in report_dict.items():\n",
    "        if isinstance(value, dict):\n",
    "            for submetric, score in value.items():\n",
    "                # Preprocess metric names if needed\n",
    "                metric_name = f\"{metric}_{submetric}\".replace(\" \", \"_\").replace(\"&\", \"and\")\n",
    "                mlflow_logger.log_metric(metric_name, score)\n",
    "        else:\n",
    "            mlflow_logger.log_metric(metric, value)\n",
    "\n",
    "    feature_importance_dict = {feature: float(importance) for feature, importance in zip(attrition_final.columns.values, feature_importances)}\n",
    "    feature_importance_file = \"../reports/viz/feature_importance.json\"\n",
    "    with open(feature_importance_file, 'w') as f:\n",
    "        json.dump(feature_importance_dict, f, indent=2)\n",
    "\n",
    "\n",
    "    # Visualize and log confusion matrix\n",
    "    plt.figure(figsize=(10, 8))\n",
    "    sns.heatmap(confusion_matrix(val_Y, rf_predictions), annot=True, fmt=\"d\")\n",
    "    plt.title(\"Confusion Matrix\")\n",
    "    confusion_matrix_file = \"../reports/viz/confusion_matrix_plot.png\"\n",
    "    plt.savefig(confusion_matrix_file)\n",
    "    plt.close()\n",
    "    artifacts ={\n",
    "        \"visuals\": \"../reports/viz/\",\n",
    "        \"model_weight\": \"../model/saved_model/\",\n",
    "        \"encoder\": \"../model/saved_encoder/\"\n",
    "    }\n",
    "    mlflow_logger.save_artifacts(artifacts)\n",
    "\n",
    "    print(\"Training Ended Sucessfully\")\n",
    "except Exception as e:\n",
    "    print(f\"Training Failed: {e}\")\n",
    "    # Ensure that the run is properly ended in case of an exception\n",
    "    mlflow_logger.finish_run(failed=True)\n",
    "finally:\n",
    "    # Ensure that the run is properly ended\n",
    "    mlflow_logger.finish_run()"
   ]
  },
  {
   "cell_type": "code",
   "execution_count": null,
   "metadata": {},
   "outputs": [
    {
     "name": "stdout",
     "output_type": "stream",
     "text": [
      "attrition_pred\n"
     ]
    }
   ],
   "source": [
    "print(experiment_name)"
   ]
  },
  {
   "cell_type": "code",
   "execution_count": null,
   "metadata": {},
   "outputs": [
    {
     "name": "stdout",
     "output_type": "stream",
     "text": [
      "                             run_id       experiment_id    status  \\\n",
      "0  5d2575f94915464db85f82f33eb06efd  449095958053341281  FINISHED   \n",
      "1  0450b623ebd943bf9d63dfaa3ab7aa03  449095958053341281  FINISHED   \n",
      "\n",
      "                                        artifact_uri  \\\n",
      "0  file:///Users/bibekkarki/Desktop/UT-Courses /L...   \n",
      "1  file:///Users/bibekkarki/Desktop/UT-Courses /L...   \n",
      "\n",
      "                        start_time                         end_time  \\\n",
      "0 2023-12-18 21:13:54.692000+00:00 2023-12-18 21:13:55.905000+00:00   \n",
      "1 2023-12-18 21:13:54.687000+00:00 2023-12-18 21:13:54.691000+00:00   \n",
      "\n",
      "   metrics.weighted_avg_recall  metrics.1_precision  metrics.accuracy  \\\n",
      "0                     0.884354             0.666667          0.884354   \n",
      "1                          NaN                  NaN               NaN   \n",
      "\n",
      "   metrics.0_recall  ...  params.n_estimators  params.max_depth  \\\n",
      "0          0.951613  ...                 1000                 4   \n",
      "1               NaN  ...                 None              None   \n",
      "\n",
      "   params.min_samples_leaf  params.max_features  \\\n",
      "0                        2                 sqrt   \n",
      "1                     None                 None   \n",
      "\n",
      "   params.Data Transformation/label_encoding_details  \\\n",
      "0     Label encoding applied to categorical columns.   \n",
      "1                                               None   \n",
      "\n",
      "                             tags.mlflow.source.name  tags.mlflow.user  \\\n",
      "0  /Users/bibekkarki/Desktop/UT-Courses /Learning...        bibekkarki   \n",
      "1  /Users/bibekkarki/Desktop/UT-Courses /Learning...        bibekkarki   \n",
      "\n",
      "   tags.mlflow.source.type  tags.Data Transformation/label_encoding_applied  \\\n",
      "0                    LOCAL                                             true   \n",
      "1                    LOCAL                                             None   \n",
      "\n",
      "    tags.mlflow.runName  \n",
      "0  industrious-wolf-136  \n",
      "1        attrition_pred  \n",
      "\n",
      "[2 rows x 33 columns]\n"
     ]
    }
   ],
   "source": [
    "import mlflow\n",
    "\n",
    "# Search runs and order by F1 score in descending order\n",
    "sorted_runs = mlflow.search_runs(experiment_names=[experiment_name], order_by=[\"metrics.f1_score DESC\"])\n",
    "# Display the sorted runs\n",
    "print(sorted_runs)\n"
   ]
  },
  {
   "cell_type": "code",
   "execution_count": null,
   "metadata": {},
   "outputs": [
    {
     "data": {
      "text/plain": [
       "run_id                                                                5d2575f94915464db85f82f33eb06efd\n",
       "experiment_id                                                                       449095958053341281\n",
       "status                                                                                        FINISHED\n",
       "artifact_uri                                         file:///Users/bibekkarki/Desktop/UT-Courses /L...\n",
       "start_time                                                            2023-12-18 21:13:54.692000+00:00\n",
       "end_time                                                              2023-12-18 21:13:55.905000+00:00\n",
       "metrics.weighted_avg_recall                                                                   0.884354\n",
       "metrics.1_precision                                                                           0.666667\n",
       "metrics.accuracy                                                                              0.884354\n",
       "metrics.0_recall                                                                              0.951613\n",
       "metrics.0_precision                                                                           0.914729\n",
       "metrics.weighted_avg_support                                                                     147.0\n",
       "metrics.0_f1-score                                                                            0.932806\n",
       "metrics.0_support                                                                                124.0\n",
       "metrics.weighted_avg_f1-score                                                                 0.878445\n",
       "metrics.1_recall                                                                              0.521739\n",
       "metrics.macro_avg_support                                                                        147.0\n",
       "metrics.macro_avg_f1-score                                                                    0.759086\n",
       "metrics.macro_avg_precision                                                                   0.790698\n",
       "metrics.weighted_avg_precision                                                                0.875916\n",
       "metrics.1_f1-score                                                                            0.585366\n",
       "metrics.1_support                                                                                 23.0\n",
       "metrics.macro_avg_recall                                                                      0.736676\n",
       "params.n_estimators                                                                               1000\n",
       "params.max_depth                                                                                     4\n",
       "params.min_samples_leaf                                                                              2\n",
       "params.max_features                                                                               sqrt\n",
       "params.Data Transformation/label_encoding_details       Label encoding applied to categorical columns.\n",
       "tags.mlflow.source.name                              /Users/bibekkarki/Desktop/UT-Courses /Learning...\n",
       "tags.mlflow.user                                                                            bibekkarki\n",
       "tags.mlflow.source.type                                                                          LOCAL\n",
       "tags.Data Transformation/label_encoding_applied                                                   true\n",
       "tags.mlflow.runName                                                               industrious-wolf-136\n",
       "Name: 0, dtype: object"
      ]
     },
     "execution_count": null,
     "metadata": {},
     "output_type": "execute_result"
    }
   ],
   "source": [
    "# Best run\n",
    "best_run = sorted_runs.iloc[0]\n",
    "best_run"
   ]
  },
  {
   "cell_type": "code",
   "execution_count": null,
   "metadata": {},
   "outputs": [
    {
     "data": {
      "text/plain": [
       "run_id                                                                5d2575f94915464db85f82f33eb06efd\n",
       "experiment_id                                                                       449095958053341281\n",
       "status                                                                                        FINISHED\n",
       "artifact_uri                                         file:///Users/bibekkarki/Desktop/UT-Courses /L...\n",
       "start_time                                                            2023-12-18 21:13:54.692000+00:00\n",
       "end_time                                                              2023-12-18 21:13:55.905000+00:00\n",
       "metrics.weighted_avg_recall                                                                   0.884354\n",
       "metrics.1_precision                                                                           0.666667\n",
       "metrics.accuracy                                                                              0.884354\n",
       "metrics.0_recall                                                                              0.951613\n",
       "metrics.0_precision                                                                           0.914729\n",
       "metrics.weighted_avg_support                                                                     147.0\n",
       "metrics.0_f1-score                                                                            0.932806\n",
       "metrics.0_support                                                                                124.0\n",
       "metrics.weighted_avg_f1-score                                                                 0.878445\n",
       "metrics.1_recall                                                                              0.521739\n",
       "metrics.macro_avg_support                                                                        147.0\n",
       "metrics.macro_avg_f1-score                                                                    0.759086\n",
       "metrics.macro_avg_precision                                                                   0.790698\n",
       "metrics.weighted_avg_precision                                                                0.875916\n",
       "metrics.1_f1-score                                                                            0.585366\n",
       "metrics.1_support                                                                                 23.0\n",
       "metrics.macro_avg_recall                                                                      0.736676\n",
       "params.n_estimators                                                                               1000\n",
       "params.max_depth                                                                                     4\n",
       "params.min_samples_leaf                                                                              2\n",
       "params.max_features                                                                               sqrt\n",
       "params.Data Transformation/label_encoding_details       Label encoding applied to categorical columns.\n",
       "tags.mlflow.source.name                              /Users/bibekkarki/Desktop/UT-Courses /Learning...\n",
       "tags.mlflow.user                                                                            bibekkarki\n",
       "tags.mlflow.source.type                                                                          LOCAL\n",
       "tags.Data Transformation/label_encoding_applied                                                   true\n",
       "tags.mlflow.runName                                                               industrious-wolf-136\n",
       "Name: 0, dtype: object"
      ]
     },
     "execution_count": null,
     "metadata": {},
     "output_type": "execute_result"
    }
   ],
   "source": [
    "best_run"
   ]
  },
  {
   "cell_type": "code",
   "execution_count": null,
   "metadata": {},
   "outputs": [],
   "source": [
    "from urllib.parse import urlparse\n",
    "from PIL import Image\n",
    "\n",
    "best_run_id = best_run.run_id\n",
    "artifact_dir = urlparse(mlflow.get_run(best_run_id).info.artifact_uri).path\n",
    "\n",
    "\n",
    "def get_artifact(run_id):\n",
    "    artifact_dir = urlparse(mlflow.get_run(run_id).info.artifact_uri).path  # get path from mlflow\n",
    "    img = Image.open(os.path.join(artifact_dir,\"visuals\",\"confusion_matrix_plot.png\"))\n",
    "    return img\n",
    "\n",
    "art_test = get_artifact(run_id=best_run.run_id)\n"
   ]
  },
  {
   "cell_type": "code",
   "execution_count": null,
   "metadata": {},
   "outputs": [
    {
     "name": "stdout",
     "output_type": "stream",
     "text": [
      "              precision    recall  f1-score   support\n",
      "\n",
      "           0       0.91      0.95      0.93       124\n",
      "           1       0.67      0.52      0.59        23\n",
      "\n",
      "    accuracy                           0.88       147\n",
      "   macro avg       0.79      0.74      0.76       147\n",
      "weighted avg       0.88      0.88      0.88       147\n",
      "\n"
     ]
    }
   ],
   "source": [
    "def get_model_weight(run_id):\n",
    "    artifact_dir = urlparse(mlflow.get_run(best_run_id).info.artifact_uri).path\n",
    "    weight_path = os.path.join(artifact_dir,\"model_weight\",\"random_forest_model.joblib\")\n",
    "    return weight_path\n",
    "\n",
    "best_run_id = best_run.run_id\n",
    "weight_path = get_model_weight(best_run_id)\n",
    "loaded_rf_model = joblib.load(weight_path)\n",
    "\n",
    "# Make predictions using the loaded model\n",
    "predictions = loaded_rf_model.predict(val_X)\n",
    "\n",
    "print(classification_report(val_Y, predictions))"
   ]
  },
  {
   "cell_type": "markdown",
   "metadata": {},
   "source": [
    "## GridSearch"
   ]
  },
  {
   "cell_type": "code",
   "execution_count": null,
   "metadata": {},
   "outputs": [],
   "source": [
    "\n",
    "\n",
    "# from sklearn.model_selection import GridSearchCV\n",
    "\n",
    "# param_grid = {\n",
    "#     'n_jobs': [-1],\n",
    "#     'n_estimators': [100, 200, 500],\n",
    "#     'max_depth': [2, 4 ,8],\n",
    "#     'min_samples_split': [2, 5, 10],\n",
    "#     'min_samples_leaf': [1, 2, 4],\n",
    "#     'max_features': ['auto', 'sqrt']  # Add max_features\n",
    "# }\n",
    "# rf_classifier = RandomForestClassifier()\n",
    "# grid_search = GridSearchCV(estimator=rf_classifier, param_grid=param_grid, cv=5, scoring='f1_macro')\n",
    "# grid_search.fit(train_X, train_Y)\n",
    "\n",
    "\n",
    "# best_rf_model = grid_search.best_estimator_"
   ]
  },
  {
   "cell_type": "code",
   "execution_count": null,
   "metadata": {},
   "outputs": [],
   "source": [
    "# # Make predictions using the loaded model\n",
    "# predictions = best_rf_model.predict(val_X)\n",
    "# print(classification_report(val_Y, predictions))"
   ]
  },
  {
   "cell_type": "code",
   "execution_count": null,
   "metadata": {},
   "outputs": [],
   "source": [
    "# best_params = grid_search.best_params_\n",
    "\n",
    "# # Print the best parameters\n",
    "# print(\"Best Parameters:\", best_params)"
   ]
  },
  {
   "cell_type": "code",
   "execution_count": null,
   "metadata": {},
   "outputs": [],
   "source": []
  },
  {
   "cell_type": "markdown",
   "metadata": {},
   "source": [
    "# Model Evaluation"
   ]
  },
  {
   "cell_type": "code",
   "execution_count": null,
   "metadata": {},
   "outputs": [],
   "source": [
    "index_to_class = {1: \"Yes\" , 0: \"No\"}\n",
    "class_to_index = {\"Yes\": 1, \"No\": 0}"
   ]
  },
  {
   "cell_type": "markdown",
   "metadata": {},
   "source": [
    "## Overall Metric"
   ]
  },
  {
   "cell_type": "code",
   "execution_count": null,
   "metadata": {},
   "outputs": [
    {
     "name": "stdout",
     "output_type": "stream",
     "text": [
      "              precision    recall  f1-score   support\n",
      "\n",
      "           0       0.91      0.95      0.93       124\n",
      "           1       0.67      0.52      0.59        23\n",
      "\n",
      "    accuracy                           0.88       147\n",
      "   macro avg       0.79      0.74      0.76       147\n",
      "weighted avg       0.88      0.88      0.88       147\n",
      "\n"
     ]
    }
   ],
   "source": [
    "print(classification_report(val_Y, predictions))"
   ]
  },
  {
   "cell_type": "markdown",
   "metadata": {},
   "source": [
    "## Per Class Metric"
   ]
  },
  {
   "cell_type": "code",
   "execution_count": null,
   "metadata": {},
   "outputs": [
    {
     "name": "stdout",
     "output_type": "stream",
     "text": [
      "Metrics for Yes:\n",
      "Precision: 0.9147286821705426\n",
      "Recall: 0.9516129032258065\n",
      "F1 Score: 0.932806324110672\n",
      "Number of Samples: 124.0\n",
      "\n",
      "\n",
      "Metrics for No:\n",
      "Precision: 0.6666666666666666\n",
      "Recall: 0.5217391304347826\n",
      "F1 Score: 0.5853658536585366\n",
      "Number of Samples: 23.0\n",
      "\n",
      "\n"
     ]
    }
   ],
   "source": [
    "from sklearn.metrics import precision_recall_fscore_support, accuracy_score\n",
    "import numpy as np\n",
    "from collections import OrderedDict\n",
    "\n",
    "def calculate_class_metrics(y_true, y_pred, class_to_index):\n",
    "    metrics = {}\n",
    "    \n",
    "    # Per-class metrics\n",
    "    class_metrics = precision_recall_fscore_support(y_true, y_pred, average=None)\n",
    "\n",
    "    for i, _class in enumerate(class_to_index):\n",
    "        metrics[_class] = {\n",
    "            \"precision\": class_metrics[0][i],\n",
    "            \"recall\": class_metrics[1][i],\n",
    "            \"f1\": class_metrics[2][i],\n",
    "            \"num_samples\": np.float64(class_metrics[3][i]),\n",
    "        }\n",
    "    sorted_per_class_metrics = OrderedDict(sorted(metrics.items(), key=lambda tag: tag[1][\"f1\"], reverse=True))\n",
    "    return sorted_per_class_metrics\n",
    "\n",
    "\n",
    "metrics = calculate_class_metrics(val_Y, predictions, index_to_class)\n",
    "\n",
    "# Display the metrics\n",
    "for _class, metrics_dict in metrics.items():\n",
    "    print(f\"Metrics for {index_to_class[_class]}:\")\n",
    "    print(f\"Precision: {metrics_dict['precision']}\")\n",
    "    print(f\"Recall: {metrics_dict['recall']}\")\n",
    "    print(f\"F1 Score: {metrics_dict['f1']}\")\n",
    "    print(f\"Number of Samples: {metrics_dict['num_samples']}\")\n",
    "    print(\"\\n\")\n"
   ]
  },
  {
   "cell_type": "code",
   "execution_count": null,
   "metadata": {},
   "outputs": [],
   "source": [
    "val_df[\"predictions\"] = predictions"
   ]
  },
  {
   "cell_type": "code",
   "execution_count": null,
   "metadata": {},
   "outputs": [
    {
     "data": {
      "text/plain": [
       "Index(['Age', 'Attrition', 'BusinessTravel', 'DailyRate', 'Department',\n",
       "       'DistanceFromHome', 'Education', 'EducationField', 'EmployeeCount',\n",
       "       'EmployeeNumber', 'EnvironmentSatisfaction', 'Gender', 'HourlyRate',\n",
       "       'JobInvolvement', 'JobLevel', 'JobRole', 'JobSatisfaction',\n",
       "       'MaritalStatus', 'MonthlyIncome', 'MonthlyRate', 'NumCompaniesWorked',\n",
       "       'Over18', 'OverTime', 'PercentSalaryHike', 'PerformanceRating',\n",
       "       'RelationshipSatisfaction', 'StandardHours', 'StockOptionLevel',\n",
       "       'TotalWorkingYears', 'TrainingTimesLastYear', 'WorkLifeBalance',\n",
       "       'YearsAtCompany', 'YearsInCurrentRole', 'YearsSinceLastPromotion',\n",
       "       'YearsWithCurrManager', 'predictions'],\n",
       "      dtype='object')"
      ]
     },
     "execution_count": null,
     "metadata": {},
     "output_type": "execute_result"
    }
   ],
   "source": [
    "val_df.columns"
   ]
  },
  {
   "cell_type": "code",
   "execution_count": null,
   "metadata": {},
   "outputs": [],
   "source": []
  },
  {
   "cell_type": "markdown",
   "metadata": {},
   "source": [
    "Look At where we are making mistakes"
   ]
  },
  {
   "cell_type": "code",
   "execution_count": null,
   "metadata": {},
   "outputs": [
    {
     "name": "stdout",
     "output_type": "stream",
     "text": [
      "1\n",
      "[]\n",
      "[25, 28, 33, 47, 50, 53]\n",
      "\n",
      "=== False Positives for 1 ===\n",
      "[25, 28, 33]\n",
      "Age                                             24\n",
      "Attrition                                      Yes\n",
      "BusinessTravel                   Travel_Frequently\n",
      "DailyRate                                     1287\n",
      "Department                  Research & Development\n",
      "DistanceFromHome                                 7\n",
      "Education                                        3\n",
      "EducationField                       Life Sciences\n",
      "EmployeeCount                                    1\n",
      "EmployeeNumber                                 647\n",
      "EnvironmentSatisfaction                          1\n",
      "Gender                                      Female\n",
      "HourlyRate                                      55\n",
      "JobInvolvement                                   3\n",
      "JobLevel                                         1\n",
      "JobRole                      Laboratory Technician\n",
      "JobSatisfaction                                  3\n",
      "MaritalStatus                              Married\n",
      "MonthlyIncome                                 2886\n",
      "MonthlyRate                                  14168\n",
      "NumCompaniesWorked                               1\n",
      "Over18                                           Y\n",
      "OverTime                                       Yes\n",
      "PercentSalaryHike                               16\n",
      "PerformanceRating                                3\n",
      "RelationshipSatisfaction                         4\n",
      "StandardHours                                   80\n",
      "StockOptionLevel                                 1\n",
      "TotalWorkingYears                                6\n",
      "TrainingTimesLastYear                            4\n",
      "WorkLifeBalance                                  3\n",
      "YearsAtCompany                                   6\n",
      "YearsInCurrentRole                               3\n",
      "YearsSinceLastPromotion                          1\n",
      "YearsWithCurrManager                             2\n",
      "predictions                                      1\n",
      "Name: 479, dtype: object\n",
      "    true: Yes\n",
      "    pred: 1\n",
      "\n",
      "Age                                             19\n",
      "Attrition                                      Yes\n",
      "BusinessTravel                          Non-Travel\n",
      "DailyRate                                      504\n",
      "Department                  Research & Development\n",
      "DistanceFromHome                                10\n",
      "Education                                        3\n",
      "EducationField                             Medical\n",
      "EmployeeCount                                    1\n",
      "EmployeeNumber                                1248\n",
      "EnvironmentSatisfaction                          1\n",
      "Gender                                      Female\n",
      "HourlyRate                                      96\n",
      "JobInvolvement                                   2\n",
      "JobLevel                                         1\n",
      "JobRole                         Research Scientist\n",
      "JobSatisfaction                                  2\n",
      "MaritalStatus                               Single\n",
      "MonthlyIncome                                 1859\n",
      "MonthlyRate                                   6148\n",
      "NumCompaniesWorked                               1\n",
      "Over18                                           Y\n",
      "OverTime                                       Yes\n",
      "PercentSalaryHike                               25\n",
      "PerformanceRating                                4\n",
      "RelationshipSatisfaction                         2\n",
      "StandardHours                                   80\n",
      "StockOptionLevel                                 0\n",
      "TotalWorkingYears                                1\n",
      "TrainingTimesLastYear                            2\n",
      "WorkLifeBalance                                  4\n",
      "YearsAtCompany                                   1\n",
      "YearsInCurrentRole                               1\n",
      "YearsSinceLastPromotion                          0\n",
      "YearsWithCurrManager                             0\n",
      "predictions                                      1\n",
      "Name: 892, dtype: object\n",
      "    true: Yes\n",
      "    pred: 1\n",
      "\n",
      "Age                                             33\n",
      "Attrition                                       No\n",
      "BusinessTravel                   Travel_Frequently\n",
      "DailyRate                                     1392\n",
      "Department                  Research & Development\n",
      "DistanceFromHome                                 3\n",
      "Education                                        4\n",
      "EducationField                       Life Sciences\n",
      "EmployeeCount                                    1\n",
      "EmployeeNumber                                   5\n",
      "EnvironmentSatisfaction                          4\n",
      "Gender                                      Female\n",
      "HourlyRate                                      56\n",
      "JobInvolvement                                   3\n",
      "JobLevel                                         1\n",
      "JobRole                         Research Scientist\n",
      "JobSatisfaction                                  3\n",
      "MaritalStatus                              Married\n",
      "MonthlyIncome                                 2909\n",
      "MonthlyRate                                  23159\n",
      "NumCompaniesWorked                               1\n",
      "Over18                                           Y\n",
      "OverTime                                       Yes\n",
      "PercentSalaryHike                               11\n",
      "PerformanceRating                                3\n",
      "RelationshipSatisfaction                         3\n",
      "StandardHours                                   80\n",
      "StockOptionLevel                                 0\n",
      "TotalWorkingYears                                8\n",
      "TrainingTimesLastYear                            3\n",
      "WorkLifeBalance                                  3\n",
      "YearsAtCompany                                   8\n",
      "YearsInCurrentRole                               7\n",
      "YearsSinceLastPromotion                          3\n",
      "YearsWithCurrManager                             0\n",
      "predictions                                      1\n",
      "Name: 3, dtype: object\n",
      "    true: No\n",
      "    pred: 1\n",
      "\n",
      "[]\n",
      "0\n",
      "[]\n",
      "[0, 1, 2, 3, 4, 5, 6, 7, 8, 9, 10, 11, 12, 13, 14, 15, 16, 17, 18, 19, 20, 21, 22, 23, 24, 26, 27, 29, 30, 31, 32, 34, 35, 36, 37, 38, 39, 40, 41, 42, 43, 44, 45, 46, 48, 49, 51, 52, 54]\n",
      "\n",
      "=== False Positives for 0 ===\n",
      "[0, 1, 2]\n",
      "Age                                    51\n",
      "Attrition                              No\n",
      "BusinessTravel              Travel_Rarely\n",
      "DailyRate                            1318\n",
      "Department                          Sales\n",
      "DistanceFromHome                       26\n",
      "Education                               4\n",
      "EducationField                  Marketing\n",
      "EmployeeCount                           1\n",
      "EmployeeNumber                        851\n",
      "EnvironmentSatisfaction                 1\n",
      "Gender                             Female\n",
      "HourlyRate                             66\n",
      "JobInvolvement                          3\n",
      "JobLevel                                4\n",
      "JobRole                           Manager\n",
      "JobSatisfaction                         3\n",
      "MaritalStatus                     Married\n",
      "MonthlyIncome                       16307\n",
      "MonthlyRate                          5594\n",
      "NumCompaniesWorked                      2\n",
      "Over18                                  Y\n",
      "OverTime                               No\n",
      "PercentSalaryHike                      14\n",
      "PerformanceRating                       3\n",
      "RelationshipSatisfaction                3\n",
      "StandardHours                          80\n",
      "StockOptionLevel                        1\n",
      "TotalWorkingYears                      29\n",
      "TrainingTimesLastYear                   2\n",
      "WorkLifeBalance                         2\n",
      "YearsAtCompany                         20\n",
      "YearsInCurrentRole                      6\n",
      "YearsSinceLastPromotion                 4\n",
      "YearsWithCurrManager                   17\n",
      "predictions                             0\n",
      "Name: 616, dtype: object\n",
      "    true: No\n",
      "    pred: 0\n",
      "\n",
      "Age                                             53\n",
      "Attrition                                       No\n",
      "BusinessTravel                       Travel_Rarely\n",
      "DailyRate                                      102\n",
      "Department                  Research & Development\n",
      "DistanceFromHome                                23\n",
      "Education                                        4\n",
      "EducationField                       Life Sciences\n",
      "EmployeeCount                                    1\n",
      "EmployeeNumber                                 901\n",
      "EnvironmentSatisfaction                          4\n",
      "Gender                                      Female\n",
      "HourlyRate                                      72\n",
      "JobInvolvement                                   3\n",
      "JobLevel                                         4\n",
      "JobRole                          Research Director\n",
      "JobSatisfaction                                  4\n",
      "MaritalStatus                               Single\n",
      "MonthlyIncome                                14275\n",
      "MonthlyRate                                  20206\n",
      "NumCompaniesWorked                               6\n",
      "Over18                                           Y\n",
      "OverTime                                        No\n",
      "PercentSalaryHike                               18\n",
      "PerformanceRating                                3\n",
      "RelationshipSatisfaction                         3\n",
      "StandardHours                                   80\n",
      "StockOptionLevel                                 0\n",
      "TotalWorkingYears                               33\n",
      "TrainingTimesLastYear                            0\n",
      "WorkLifeBalance                                  3\n",
      "YearsAtCompany                                  12\n",
      "YearsInCurrentRole                               9\n",
      "YearsSinceLastPromotion                          3\n",
      "YearsWithCurrManager                             8\n",
      "predictions                                      0\n",
      "Name: 649, dtype: object\n",
      "    true: No\n",
      "    pred: 0\n",
      "\n",
      "Age                                             35\n",
      "Attrition                                       No\n",
      "BusinessTravel                       Travel_Rarely\n",
      "DailyRate                                     1315\n",
      "Department                  Research & Development\n",
      "DistanceFromHome                                22\n",
      "Education                                        3\n",
      "EducationField                       Life Sciences\n",
      "EmployeeCount                                    1\n",
      "EmployeeNumber                                 381\n",
      "EnvironmentSatisfaction                          2\n",
      "Gender                                      Female\n",
      "HourlyRate                                      71\n",
      "JobInvolvement                                   4\n",
      "JobLevel                                         3\n",
      "JobRole                                    Manager\n",
      "JobSatisfaction                                  2\n",
      "MaritalStatus                             Divorced\n",
      "MonthlyIncome                                11996\n",
      "MonthlyRate                                  19100\n",
      "NumCompaniesWorked                               7\n",
      "Over18                                           Y\n",
      "OverTime                                        No\n",
      "PercentSalaryHike                               18\n",
      "PerformanceRating                                3\n",
      "RelationshipSatisfaction                         2\n",
      "StandardHours                                   80\n",
      "StockOptionLevel                                 1\n",
      "TotalWorkingYears                               10\n",
      "TrainingTimesLastYear                            6\n",
      "WorkLifeBalance                                  2\n",
      "YearsAtCompany                                   7\n",
      "YearsInCurrentRole                               7\n",
      "YearsSinceLastPromotion                          6\n",
      "YearsWithCurrManager                             2\n",
      "predictions                                      0\n",
      "Name: 276, dtype: object\n",
      "    true: No\n",
      "    pred: 0\n",
      "\n",
      "[]\n"
     ]
    }
   ],
   "source": [
    "from sklearn.metrics import confusion_matrix\n",
    "import numpy as np\n",
    "\n",
    "def calculate_samples_for_class(y_true, y_pred, class_index):\n",
    "    tp, fp, fn = [], [], []\n",
    "\n",
    "    for i, (true, pred) in enumerate(zip(y_true, y_pred)):\n",
    "        if class_index == true == pred:\n",
    "            tp.append(i)\n",
    "        elif class_index != true and class_index == pred:\n",
    "            fp.append(i)\n",
    "        elif class_index == true and class_index != pred:\n",
    "            fn.append(i)\n",
    "\n",
    "    return tp, fp, fn\n",
    "\n",
    "def display_samples(df, indices, title):\n",
    "    print(indices)\n",
    "    if len(indices) > 2:\n",
    "        num_samples = 3\n",
    "        print(f\"\\n=== {title} ===\")\n",
    "        print(indices[:num_samples])\n",
    "        for index in indices[:num_samples]:\n",
    "            print(f\"{df.iloc[index]}\")\n",
    "            print(f\"    true: {df.Attrition.iloc[index]}\")\n",
    "            print(f\"    pred: {df.predictions.iloc[index]}\\n\")\n",
    "\n",
    "# Example usage\n",
    "# Assuming you have your true labels (y_test) and predicted labels (y_pred)\n",
    "# Replace 'class1', 'class2', etc., with the actual class labels in your dataset\n",
    "\n",
    "class_labels = [1,0]  # Replace with your actual class labels\n",
    "\n",
    "for class_label in class_labels:\n",
    "    print(class_label)\n",
    "    class_index = class_label#preprocessor.class_to_index[class_label]\n",
    "\n",
    "    # Calculate TP, FP, FN for the current class\n",
    "    tp, fp, fn = calculate_samples_for_class(val_X, predictions, class_index)\n",
    "    \n",
    "    # Display samples for TP, FP, FN\n",
    "    display_samples(val_df, tp, f\"True Positives for {class_label}\")\n",
    "    display_samples(val_df, fp, f\"False Positives for {class_label}\")\n",
    "    display_samples(val_df, fn, f\"False Negatives for {class_label}\")\n"
   ]
  },
  {
   "cell_type": "markdown",
   "metadata": {},
   "source": [
    "## Low Confidence"
   ]
  },
  {
   "cell_type": "code",
   "execution_count": null,
   "metadata": {},
   "outputs": [],
   "source": [
    "# Tag to inspect\n",
    "class_label = \"No\"\n",
    "index = class_to_index[class_label]\n",
    "indices = np.where(val_Y==index)[0]\n",
    "\n",
    "# Confidence score for the correct class is below a threshold\n",
    "low_confidence = []\n",
    "min_threshold = 0.5\n",
    "for i in indices:\n",
    "    prob = rf_probabilities[i][index]\n",
    "    if prob <= 0.5:\n",
    "        low_confidence.append({\n",
    "            \"attr\": f\"{val_df.iloc[i]}\",\n",
    "            \"true\": val_df.Attrition.iloc[i],\n",
    "            \"pred\": index_to_class[val_df.predictions.iloc[i]],\n",
    "            \"prob\": prob})"
   ]
  },
  {
   "cell_type": "code",
   "execution_count": null,
   "metadata": {},
   "outputs": [
    {
     "data": {
      "text/plain": [
       "{'attr': 'Age                                             33\\nAttrition                                       No\\nBusinessTravel                   Travel_Frequently\\nDailyRate                                     1392\\nDepartment                  Research & Development\\nDistanceFromHome                                 3\\nEducation                                        4\\nEducationField                       Life Sciences\\nEmployeeCount                                    1\\nEmployeeNumber                                   5\\nEnvironmentSatisfaction                          4\\nGender                                      Female\\nHourlyRate                                      56\\nJobInvolvement                                   3\\nJobLevel                                         1\\nJobRole                         Research Scientist\\nJobSatisfaction                                  3\\nMaritalStatus                              Married\\nMonthlyIncome                                 2909\\nMonthlyRate                                  23159\\nNumCompaniesWorked                               1\\nOver18                                           Y\\nOverTime                                       Yes\\nPercentSalaryHike                               11\\nPerformanceRating                                3\\nRelationshipSatisfaction                         3\\nStandardHours                                   80\\nStockOptionLevel                                 0\\nTotalWorkingYears                                8\\nTrainingTimesLastYear                            3\\nWorkLifeBalance                                  3\\nYearsAtCompany                                   8\\nYearsInCurrentRole                               7\\nYearsSinceLastPromotion                          3\\nYearsWithCurrManager                             0\\npredictions                                      1\\nName: 3, dtype: object',\n",
       " 'true': 'No',\n",
       " 'pred': 'Yes',\n",
       " 'prob': 0.44833063586959093}"
      ]
     },
     "execution_count": null,
     "metadata": {},
     "output_type": "execute_result"
    }
   ],
   "source": [
    "low_confidence[0]"
   ]
  },
  {
   "cell_type": "markdown",
   "metadata": {},
   "source": [
    "## Slicing"
   ]
  },
  {
   "cell_type": "code",
   "execution_count": null,
   "metadata": {},
   "outputs": [],
   "source": [
    "from snorkel.slicing import slicing_function\n",
    "from snorkel.slicing import PandasSFApplier\n",
    "from snorkel.slicing import slice_dataframe"
   ]
  },
  {
   "cell_type": "code",
   "execution_count": null,
   "metadata": {},
   "outputs": [
    {
     "data": {
      "text/html": [
       "<div>\n",
       "<style scoped>\n",
       "    .dataframe tbody tr th:only-of-type {\n",
       "        vertical-align: middle;\n",
       "    }\n",
       "\n",
       "    .dataframe tbody tr th {\n",
       "        vertical-align: top;\n",
       "    }\n",
       "\n",
       "    .dataframe thead th {\n",
       "        text-align: right;\n",
       "    }\n",
       "</style>\n",
       "<table border=\"1\" class=\"dataframe\">\n",
       "  <thead>\n",
       "    <tr style=\"text-align: right;\">\n",
       "      <th></th>\n",
       "      <th>Age</th>\n",
       "      <th>Attrition</th>\n",
       "      <th>BusinessTravel</th>\n",
       "      <th>DailyRate</th>\n",
       "      <th>Department</th>\n",
       "      <th>DistanceFromHome</th>\n",
       "      <th>Education</th>\n",
       "      <th>EducationField</th>\n",
       "      <th>EmployeeCount</th>\n",
       "      <th>EmployeeNumber</th>\n",
       "      <th>...</th>\n",
       "      <th>StandardHours</th>\n",
       "      <th>StockOptionLevel</th>\n",
       "      <th>TotalWorkingYears</th>\n",
       "      <th>TrainingTimesLastYear</th>\n",
       "      <th>WorkLifeBalance</th>\n",
       "      <th>YearsAtCompany</th>\n",
       "      <th>YearsInCurrentRole</th>\n",
       "      <th>YearsSinceLastPromotion</th>\n",
       "      <th>YearsWithCurrManager</th>\n",
       "      <th>predictions</th>\n",
       "    </tr>\n",
       "  </thead>\n",
       "  <tbody>\n",
       "    <tr>\n",
       "      <th>616</th>\n",
       "      <td>51</td>\n",
       "      <td>No</td>\n",
       "      <td>Travel_Rarely</td>\n",
       "      <td>1318</td>\n",
       "      <td>Sales</td>\n",
       "      <td>26</td>\n",
       "      <td>4</td>\n",
       "      <td>Marketing</td>\n",
       "      <td>1</td>\n",
       "      <td>851</td>\n",
       "      <td>...</td>\n",
       "      <td>80</td>\n",
       "      <td>1</td>\n",
       "      <td>29</td>\n",
       "      <td>2</td>\n",
       "      <td>2</td>\n",
       "      <td>20</td>\n",
       "      <td>6</td>\n",
       "      <td>4</td>\n",
       "      <td>17</td>\n",
       "      <td>0</td>\n",
       "    </tr>\n",
       "    <tr>\n",
       "      <th>649</th>\n",
       "      <td>53</td>\n",
       "      <td>No</td>\n",
       "      <td>Travel_Rarely</td>\n",
       "      <td>102</td>\n",
       "      <td>Research &amp; Development</td>\n",
       "      <td>23</td>\n",
       "      <td>4</td>\n",
       "      <td>Life Sciences</td>\n",
       "      <td>1</td>\n",
       "      <td>901</td>\n",
       "      <td>...</td>\n",
       "      <td>80</td>\n",
       "      <td>0</td>\n",
       "      <td>33</td>\n",
       "      <td>0</td>\n",
       "      <td>3</td>\n",
       "      <td>12</td>\n",
       "      <td>9</td>\n",
       "      <td>3</td>\n",
       "      <td>8</td>\n",
       "      <td>0</td>\n",
       "    </tr>\n",
       "    <tr>\n",
       "      <th>276</th>\n",
       "      <td>35</td>\n",
       "      <td>No</td>\n",
       "      <td>Travel_Rarely</td>\n",
       "      <td>1315</td>\n",
       "      <td>Research &amp; Development</td>\n",
       "      <td>22</td>\n",
       "      <td>3</td>\n",
       "      <td>Life Sciences</td>\n",
       "      <td>1</td>\n",
       "      <td>381</td>\n",
       "      <td>...</td>\n",
       "      <td>80</td>\n",
       "      <td>1</td>\n",
       "      <td>10</td>\n",
       "      <td>6</td>\n",
       "      <td>2</td>\n",
       "      <td>7</td>\n",
       "      <td>7</td>\n",
       "      <td>6</td>\n",
       "      <td>2</td>\n",
       "      <td>0</td>\n",
       "    </tr>\n",
       "  </tbody>\n",
       "</table>\n",
       "<p>3 rows × 36 columns</p>\n",
       "</div>"
      ],
      "text/plain": [
       "     Age Attrition BusinessTravel  DailyRate              Department  \\\n",
       "616   51        No  Travel_Rarely       1318                   Sales   \n",
       "649   53        No  Travel_Rarely        102  Research & Development   \n",
       "276   35        No  Travel_Rarely       1315  Research & Development   \n",
       "\n",
       "     DistanceFromHome  Education EducationField  EmployeeCount  \\\n",
       "616                26          4      Marketing              1   \n",
       "649                23          4  Life Sciences              1   \n",
       "276                22          3  Life Sciences              1   \n",
       "\n",
       "     EmployeeNumber  ...  StandardHours StockOptionLevel  TotalWorkingYears  \\\n",
       "616             851  ...             80                1                 29   \n",
       "649             901  ...             80                0                 33   \n",
       "276             381  ...             80                1                 10   \n",
       "\n",
       "     TrainingTimesLastYear  WorkLifeBalance YearsAtCompany  \\\n",
       "616                      2                2             20   \n",
       "649                      0                3             12   \n",
       "276                      6                2              7   \n",
       "\n",
       "     YearsInCurrentRole YearsSinceLastPromotion  YearsWithCurrManager  \\\n",
       "616                   6                       4                    17   \n",
       "649                   9                       3                     8   \n",
       "276                   7                       6                     2   \n",
       "\n",
       "     predictions  \n",
       "616            0  \n",
       "649            0  \n",
       "276            0  \n",
       "\n",
       "[3 rows x 36 columns]"
      ]
     },
     "execution_count": null,
     "metadata": {},
     "output_type": "execute_result"
    }
   ],
   "source": [
    "val_df.head(3)"
   ]
  },
  {
   "cell_type": "code",
   "execution_count": null,
   "metadata": {},
   "outputs": [],
   "source": [
    "@slicing_function()\n",
    "def research_pos(x):\n",
    "    \"\"\"Look At research Department with attrition\"\"\"\n",
    "    reseach_dep_attrition = \"Yes\" in x.Attrition\n",
    "    terms = [\"research\"]\n",
    "    research_deps = any(s.lower() in x.Department.lower() for s in terms)\n",
    "    return (reseach_dep_attrition and research_deps)"
   ]
  },
  {
   "cell_type": "code",
   "execution_count": null,
   "metadata": {},
   "outputs": [
    {
     "name": "stderr",
     "output_type": "stream",
     "text": [
      "100%|██████████| 147/147 [00:00<00:00, 77750.65it/s]\n"
     ]
    },
    {
     "data": {
      "text/html": [
       "<div>\n",
       "<style scoped>\n",
       "    .dataframe tbody tr th:only-of-type {\n",
       "        vertical-align: middle;\n",
       "    }\n",
       "\n",
       "    .dataframe tbody tr th {\n",
       "        vertical-align: top;\n",
       "    }\n",
       "\n",
       "    .dataframe thead th {\n",
       "        text-align: right;\n",
       "    }\n",
       "</style>\n",
       "<table border=\"1\" class=\"dataframe\">\n",
       "  <thead>\n",
       "    <tr style=\"text-align: right;\">\n",
       "      <th></th>\n",
       "      <th>Department</th>\n",
       "      <th>Attrition</th>\n",
       "    </tr>\n",
       "  </thead>\n",
       "  <tbody>\n",
       "    <tr>\n",
       "      <th>761</th>\n",
       "      <td>Research &amp; Development</td>\n",
       "      <td>Yes</td>\n",
       "    </tr>\n",
       "    <tr>\n",
       "      <th>1016</th>\n",
       "      <td>Research &amp; Development</td>\n",
       "      <td>Yes</td>\n",
       "    </tr>\n",
       "    <tr>\n",
       "      <th>479</th>\n",
       "      <td>Research &amp; Development</td>\n",
       "      <td>Yes</td>\n",
       "    </tr>\n",
       "    <tr>\n",
       "      <th>892</th>\n",
       "      <td>Research &amp; Development</td>\n",
       "      <td>Yes</td>\n",
       "    </tr>\n",
       "    <tr>\n",
       "      <th>780</th>\n",
       "      <td>Research &amp; Development</td>\n",
       "      <td>Yes</td>\n",
       "    </tr>\n",
       "  </tbody>\n",
       "</table>\n",
       "</div>"
      ],
      "text/plain": [
       "                  Department Attrition\n",
       "761   Research & Development       Yes\n",
       "1016  Research & Development       Yes\n",
       "479   Research & Development       Yes\n",
       "892   Research & Development       Yes\n",
       "780   Research & Development       Yes"
      ]
     },
     "execution_count": null,
     "metadata": {},
     "output_type": "execute_result"
    }
   ],
   "source": [
    "reseach_dep_attrition_df = slice_dataframe(val_df, research_pos)\n",
    "reseach_dep_attrition_df[[\"Department\", \"Attrition\"]].head()"
   ]
  },
  {
   "cell_type": "code",
   "execution_count": null,
   "metadata": {},
   "outputs": [],
   "source": [
    "@slicing_function()\n",
    "def old_population(x):\n",
    "    yes_attrition = \"Yes\" in x.Attrition\n",
    "    return (x.Age > 50) and yes_attrition\n",
    "\n"
   ]
  },
  {
   "cell_type": "code",
   "execution_count": null,
   "metadata": {},
   "outputs": [
    {
     "name": "stderr",
     "output_type": "stream",
     "text": [
      "100%|██████████| 147/147 [00:00<00:00, 82904.76it/s]"
     ]
    },
    {
     "name": "stderr",
     "output_type": "stream",
     "text": [
      "\n"
     ]
    },
    {
     "data": {
      "text/html": [
       "<div>\n",
       "<style scoped>\n",
       "    .dataframe tbody tr th:only-of-type {\n",
       "        vertical-align: middle;\n",
       "    }\n",
       "\n",
       "    .dataframe tbody tr th {\n",
       "        vertical-align: top;\n",
       "    }\n",
       "\n",
       "    .dataframe thead th {\n",
       "        text-align: right;\n",
       "    }\n",
       "</style>\n",
       "<table border=\"1\" class=\"dataframe\">\n",
       "  <thead>\n",
       "    <tr style=\"text-align: right;\">\n",
       "      <th></th>\n",
       "      <th>Age</th>\n",
       "      <th>Attrition</th>\n",
       "    </tr>\n",
       "  </thead>\n",
       "  <tbody>\n",
       "    <tr>\n",
       "      <th>660</th>\n",
       "      <td>58</td>\n",
       "      <td>Yes</td>\n",
       "    </tr>\n",
       "    <tr>\n",
       "      <th>608</th>\n",
       "      <td>55</td>\n",
       "      <td>Yes</td>\n",
       "    </tr>\n",
       "  </tbody>\n",
       "</table>\n",
       "</div>"
      ],
      "text/plain": [
       "     Age Attrition\n",
       "660   58       Yes\n",
       "608   55       Yes"
      ]
     },
     "execution_count": null,
     "metadata": {},
     "output_type": "execute_result"
    }
   ],
   "source": [
    "olderGen_df = slice_dataframe(val_df, old_population)\n",
    "olderGen_df[[\"Age\", \"Attrition\"]].head()"
   ]
  },
  {
   "cell_type": "code",
   "execution_count": null,
   "metadata": {},
   "outputs": [
    {
     "name": "stderr",
     "output_type": "stream",
     "text": [
      "100%|██████████| 147/147 [00:00<00:00, 48180.25it/s]\n"
     ]
    },
    {
     "data": {
      "text/plain": [
       "rec.array([(0, 0), (0, 0), (0, 0), (0, 0), (0, 0), (0, 0), (0, 0), (0, 0),\n",
       "           (0, 0), (1, 0), (1, 0), (0, 0), (0, 0), (0, 0), (0, 0), (0, 0),\n",
       "           (0, 0), (0, 0), (0, 0), (0, 0), (0, 0), (0, 0), (0, 0), (0, 0),\n",
       "           (0, 0), (1, 0), (0, 0), (0, 0), (1, 0), (0, 0), (1, 0), (0, 0),\n",
       "           (0, 0), (0, 0), (0, 0), (0, 0), (0, 0), (0, 0), (0, 0), (0, 0),\n",
       "           (0, 0), (0, 0), (0, 0), (0, 0), (0, 0), (0, 0), (0, 0), (1, 0),\n",
       "           (0, 0), (1, 0), (0, 0), (0, 0), (0, 0), (0, 0), (0, 0), (0, 0),\n",
       "           (0, 0), (0, 0), (0, 0), (0, 0), (0, 0), (0, 0), (0, 0), (0, 0),\n",
       "           (0, 0), (0, 0), (0, 0), (1, 0), (0, 0), (0, 0), (0, 0), (0, 0),\n",
       "           (0, 0), (0, 0), (0, 0), (0, 0), (1, 0), (0, 0), (0, 0), (0, 0),\n",
       "           (0, 0), (0, 0), (0, 0), (0, 0), (0, 0), (0, 0), (0, 0), (0, 0),\n",
       "           (0, 0), (0, 0), (1, 0), (0, 0), (0, 0), (0, 0), (0, 0), (0, 0),\n",
       "           (0, 0), (0, 0), (1, 1), (0, 0), (0, 0), (0, 0), (0, 0), (0, 0),\n",
       "           (0, 0), (0, 0), (0, 0), (0, 0), (0, 1), (0, 0), (0, 0), (0, 0),\n",
       "           (0, 0), (0, 0), (0, 0), (0, 0), (0, 0), (0, 0), (0, 0), (0, 0),\n",
       "           (0, 0), (0, 0), (0, 0), (0, 0), (0, 0), (0, 0), (0, 0), (0, 0),\n",
       "           (0, 0), (0, 0), (0, 0), (0, 0), (0, 0), (0, 0), (0, 0), (0, 0),\n",
       "           (0, 0), (0, 0), (0, 0), (0, 0), (0, 0), (0, 0), (0, 0), (0, 0),\n",
       "           (1, 0), (0, 0), (0, 0)],\n",
       "          dtype=[('research_pos', '<i8'), ('old_population', '<i8')])"
      ]
     },
     "execution_count": null,
     "metadata": {},
     "output_type": "execute_result"
    }
   ],
   "source": [
    "slicing_functions = [research_pos, old_population]\n",
    "applier = PandasSFApplier(slicing_functions)\n",
    "slices = applier.apply(val_df)\n",
    "slices"
   ]
  },
  {
   "cell_type": "code",
   "execution_count": null,
   "metadata": {},
   "outputs": [
    {
     "data": {
      "text/plain": [
       "147"
      ]
     },
     "execution_count": null,
     "metadata": {},
     "output_type": "execute_result"
    }
   ],
   "source": [
    "len(predictions)"
   ]
  },
  {
   "cell_type": "code",
   "execution_count": null,
   "metadata": {},
   "outputs": [
    {
     "data": {
      "text/plain": [
       "147"
      ]
     },
     "execution_count": null,
     "metadata": {},
     "output_type": "execute_result"
    }
   ],
   "source": [
    "len(val_Y)"
   ]
  },
  {
   "cell_type": "code",
   "execution_count": null,
   "metadata": {},
   "outputs": [],
   "source": [
    "# Score slices\n",
    "metrics[\"slices\"] = {}\n",
    "for slice_name in slices.dtype.names:\n",
    "    mask = slices[slice_name].astype(bool)\n",
    "    if sum(mask):\n",
    "        slice_metrics = precision_recall_fscore_support(\n",
    "            val_Y[mask], predictions[mask], average=\"micro\"\n",
    "        )\n",
    "        metrics[\"slices\"][slice_name] = {}\n",
    "        metrics[\"slices\"][slice_name][\"precision\"] = slice_metrics[0]\n",
    "        metrics[\"slices\"][slice_name][\"recall\"] = slice_metrics[1]\n",
    "        metrics[\"slices\"][slice_name][\"f1\"] = slice_metrics[2]\n",
    "        metrics[\"slices\"][slice_name][\"num_samples\"] = len(val_Y[mask])"
   ]
  },
  {
   "cell_type": "code",
   "execution_count": null,
   "metadata": {},
   "outputs": [
    {
     "name": "stdout",
     "output_type": "stream",
     "text": [
      "{\n",
      "  \"research_pos\": {\n",
      "    \"precision\": 0.5,\n",
      "    \"recall\": 0.5,\n",
      "    \"f1\": 0.5,\n",
      "    \"num_samples\": 12\n",
      "  },\n",
      "  \"old_population\": {\n",
      "    \"precision\": 0.5,\n",
      "    \"recall\": 0.5,\n",
      "    \"f1\": 0.5,\n",
      "    \"num_samples\": 2\n",
      "  }\n",
      "}\n"
     ]
    }
   ],
   "source": [
    "print(json.dumps(metrics[\"slices\"], indent=2))"
   ]
  },
  {
   "cell_type": "markdown",
   "metadata": {},
   "source": [
    "# Online Model Serving"
   ]
  },
  {
   "cell_type": "code",
   "execution_count": null,
   "metadata": {},
   "outputs": [],
   "source": [
    "best_run_id = best_run.run_id\n",
    "weight_path = get_model_weight(best_run_id)\n",
    "rf_model = joblib.load(weight_path)"
   ]
  },
  {
   "cell_type": "markdown",
   "metadata": {},
   "source": [
    "Change this preprocess to actual thing that takes maybe dict"
   ]
  },
  {
   "cell_type": "code",
   "execution_count": null,
   "metadata": {},
   "outputs": [
    {
     "data": {
      "text/html": [
       "<div>\n",
       "<style scoped>\n",
       "    .dataframe tbody tr th:only-of-type {\n",
       "        vertical-align: middle;\n",
       "    }\n",
       "\n",
       "    .dataframe tbody tr th {\n",
       "        vertical-align: top;\n",
       "    }\n",
       "\n",
       "    .dataframe thead th {\n",
       "        text-align: right;\n",
       "    }\n",
       "</style>\n",
       "<table border=\"1\" class=\"dataframe\">\n",
       "  <thead>\n",
       "    <tr style=\"text-align: right;\">\n",
       "      <th></th>\n",
       "      <th>Age</th>\n",
       "      <th>Attrition</th>\n",
       "      <th>BusinessTravel</th>\n",
       "      <th>DailyRate</th>\n",
       "      <th>Department</th>\n",
       "      <th>DistanceFromHome</th>\n",
       "      <th>Education</th>\n",
       "      <th>EducationField</th>\n",
       "      <th>EmployeeCount</th>\n",
       "      <th>EmployeeNumber</th>\n",
       "      <th>...</th>\n",
       "      <th>RelationshipSatisfaction</th>\n",
       "      <th>StandardHours</th>\n",
       "      <th>StockOptionLevel</th>\n",
       "      <th>TotalWorkingYears</th>\n",
       "      <th>TrainingTimesLastYear</th>\n",
       "      <th>WorkLifeBalance</th>\n",
       "      <th>YearsAtCompany</th>\n",
       "      <th>YearsInCurrentRole</th>\n",
       "      <th>YearsSinceLastPromotion</th>\n",
       "      <th>YearsWithCurrManager</th>\n",
       "    </tr>\n",
       "  </thead>\n",
       "  <tbody>\n",
       "    <tr>\n",
       "      <th>623</th>\n",
       "      <td>30</td>\n",
       "      <td>No</td>\n",
       "      <td>Travel_Frequently</td>\n",
       "      <td>1012</td>\n",
       "      <td>Research &amp; Development</td>\n",
       "      <td>5</td>\n",
       "      <td>4</td>\n",
       "      <td>Life Sciences</td>\n",
       "      <td>1</td>\n",
       "      <td>861</td>\n",
       "      <td>...</td>\n",
       "      <td>2</td>\n",
       "      <td>80</td>\n",
       "      <td>1</td>\n",
       "      <td>10</td>\n",
       "      <td>3</td>\n",
       "      <td>2</td>\n",
       "      <td>5</td>\n",
       "      <td>4</td>\n",
       "      <td>0</td>\n",
       "      <td>3</td>\n",
       "    </tr>\n",
       "    <tr>\n",
       "      <th>1064</th>\n",
       "      <td>30</td>\n",
       "      <td>No</td>\n",
       "      <td>Travel_Rarely</td>\n",
       "      <td>330</td>\n",
       "      <td>Human Resources</td>\n",
       "      <td>1</td>\n",
       "      <td>3</td>\n",
       "      <td>Life Sciences</td>\n",
       "      <td>1</td>\n",
       "      <td>1499</td>\n",
       "      <td>...</td>\n",
       "      <td>1</td>\n",
       "      <td>80</td>\n",
       "      <td>1</td>\n",
       "      <td>6</td>\n",
       "      <td>3</td>\n",
       "      <td>4</td>\n",
       "      <td>5</td>\n",
       "      <td>3</td>\n",
       "      <td>1</td>\n",
       "      <td>3</td>\n",
       "    </tr>\n",
       "    <tr>\n",
       "      <th>1305</th>\n",
       "      <td>54</td>\n",
       "      <td>No</td>\n",
       "      <td>Travel_Rarely</td>\n",
       "      <td>431</td>\n",
       "      <td>Research &amp; Development</td>\n",
       "      <td>7</td>\n",
       "      <td>4</td>\n",
       "      <td>Medical</td>\n",
       "      <td>1</td>\n",
       "      <td>1830</td>\n",
       "      <td>...</td>\n",
       "      <td>2</td>\n",
       "      <td>80</td>\n",
       "      <td>1</td>\n",
       "      <td>14</td>\n",
       "      <td>2</td>\n",
       "      <td>2</td>\n",
       "      <td>7</td>\n",
       "      <td>1</td>\n",
       "      <td>1</td>\n",
       "      <td>7</td>\n",
       "    </tr>\n",
       "  </tbody>\n",
       "</table>\n",
       "<p>3 rows × 35 columns</p>\n",
       "</div>"
      ],
      "text/plain": [
       "      Age Attrition     BusinessTravel  DailyRate              Department  \\\n",
       "623    30        No  Travel_Frequently       1012  Research & Development   \n",
       "1064   30        No      Travel_Rarely        330         Human Resources   \n",
       "1305   54        No      Travel_Rarely        431  Research & Development   \n",
       "\n",
       "      DistanceFromHome  Education EducationField  EmployeeCount  \\\n",
       "623                  5          4  Life Sciences              1   \n",
       "1064                 1          3  Life Sciences              1   \n",
       "1305                 7          4        Medical              1   \n",
       "\n",
       "      EmployeeNumber  ...  RelationshipSatisfaction StandardHours  \\\n",
       "623              861  ...                         2            80   \n",
       "1064            1499  ...                         1            80   \n",
       "1305            1830  ...                         2            80   \n",
       "\n",
       "      StockOptionLevel  TotalWorkingYears  TrainingTimesLastYear  \\\n",
       "623                  1                 10                      3   \n",
       "1064                 1                  6                      3   \n",
       "1305                 1                 14                      2   \n",
       "\n",
       "     WorkLifeBalance  YearsAtCompany YearsInCurrentRole  \\\n",
       "623                2               5                  4   \n",
       "1064               4               5                  3   \n",
       "1305               2               7                  1   \n",
       "\n",
       "      YearsSinceLastPromotion  YearsWithCurrManager  \n",
       "623                         0                     3  \n",
       "1064                        1                     3  \n",
       "1305                        1                     7  \n",
       "\n",
       "[3 rows x 35 columns]"
      ]
     },
     "execution_count": null,
     "metadata": {},
     "output_type": "execute_result"
    }
   ],
   "source": []
  },
  {
   "cell_type": "code",
   "execution_count": null,
   "metadata": {},
   "outputs": [],
   "source": [
    "test_A_df = test_df.iloc[:3]"
   ]
  },
  {
   "cell_type": "code",
   "execution_count": null,
   "metadata": {},
   "outputs": [],
   "source": [
    "test_A_df.to_csv(\"test.csv\", index=False)"
   ]
  },
  {
   "cell_type": "code",
   "execution_count": null,
   "metadata": {},
   "outputs": [
    {
     "data": {
      "text/html": [
       "<div>\n",
       "<style scoped>\n",
       "    .dataframe tbody tr th:only-of-type {\n",
       "        vertical-align: middle;\n",
       "    }\n",
       "\n",
       "    .dataframe tbody tr th {\n",
       "        vertical-align: top;\n",
       "    }\n",
       "\n",
       "    .dataframe thead th {\n",
       "        text-align: right;\n",
       "    }\n",
       "</style>\n",
       "<table border=\"1\" class=\"dataframe\">\n",
       "  <thead>\n",
       "    <tr style=\"text-align: right;\">\n",
       "      <th></th>\n",
       "      <th>Age</th>\n",
       "      <th>BusinessTravel</th>\n",
       "      <th>DailyRate</th>\n",
       "      <th>Department</th>\n",
       "      <th>DistanceFromHome</th>\n",
       "      <th>Education</th>\n",
       "      <th>EducationField</th>\n",
       "      <th>EmployeeCount</th>\n",
       "      <th>EmployeeNumber</th>\n",
       "      <th>EnvironmentSatisfaction</th>\n",
       "      <th>...</th>\n",
       "      <th>RelationshipSatisfaction</th>\n",
       "      <th>StandardHours</th>\n",
       "      <th>StockOptionLevel</th>\n",
       "      <th>TotalWorkingYears</th>\n",
       "      <th>TrainingTimesLastYear</th>\n",
       "      <th>WorkLifeBalance</th>\n",
       "      <th>YearsAtCompany</th>\n",
       "      <th>YearsInCurrentRole</th>\n",
       "      <th>YearsSinceLastPromotion</th>\n",
       "      <th>YearsWithCurrManager</th>\n",
       "    </tr>\n",
       "  </thead>\n",
       "  <tbody>\n",
       "    <tr>\n",
       "      <th>623</th>\n",
       "      <td>30</td>\n",
       "      <td>Travel_Frequently</td>\n",
       "      <td>1012</td>\n",
       "      <td>Research &amp; Development</td>\n",
       "      <td>5</td>\n",
       "      <td>4</td>\n",
       "      <td>Life Sciences</td>\n",
       "      <td>1</td>\n",
       "      <td>861</td>\n",
       "      <td>2</td>\n",
       "      <td>...</td>\n",
       "      <td>2</td>\n",
       "      <td>80</td>\n",
       "      <td>1</td>\n",
       "      <td>10</td>\n",
       "      <td>3</td>\n",
       "      <td>2</td>\n",
       "      <td>5</td>\n",
       "      <td>4</td>\n",
       "      <td>0</td>\n",
       "      <td>3</td>\n",
       "    </tr>\n",
       "    <tr>\n",
       "      <th>1064</th>\n",
       "      <td>30</td>\n",
       "      <td>Travel_Rarely</td>\n",
       "      <td>330</td>\n",
       "      <td>Human Resources</td>\n",
       "      <td>1</td>\n",
       "      <td>3</td>\n",
       "      <td>Life Sciences</td>\n",
       "      <td>1</td>\n",
       "      <td>1499</td>\n",
       "      <td>3</td>\n",
       "      <td>...</td>\n",
       "      <td>1</td>\n",
       "      <td>80</td>\n",
       "      <td>1</td>\n",
       "      <td>6</td>\n",
       "      <td>3</td>\n",
       "      <td>4</td>\n",
       "      <td>5</td>\n",
       "      <td>3</td>\n",
       "      <td>1</td>\n",
       "      <td>3</td>\n",
       "    </tr>\n",
       "    <tr>\n",
       "      <th>1305</th>\n",
       "      <td>54</td>\n",
       "      <td>Travel_Rarely</td>\n",
       "      <td>431</td>\n",
       "      <td>Research &amp; Development</td>\n",
       "      <td>7</td>\n",
       "      <td>4</td>\n",
       "      <td>Medical</td>\n",
       "      <td>1</td>\n",
       "      <td>1830</td>\n",
       "      <td>4</td>\n",
       "      <td>...</td>\n",
       "      <td>2</td>\n",
       "      <td>80</td>\n",
       "      <td>1</td>\n",
       "      <td>14</td>\n",
       "      <td>2</td>\n",
       "      <td>2</td>\n",
       "      <td>7</td>\n",
       "      <td>1</td>\n",
       "      <td>1</td>\n",
       "      <td>7</td>\n",
       "    </tr>\n",
       "  </tbody>\n",
       "</table>\n",
       "<p>3 rows × 34 columns</p>\n",
       "</div>"
      ],
      "text/plain": [
       "      Age     BusinessTravel  DailyRate              Department  \\\n",
       "623    30  Travel_Frequently       1012  Research & Development   \n",
       "1064   30      Travel_Rarely        330         Human Resources   \n",
       "1305   54      Travel_Rarely        431  Research & Development   \n",
       "\n",
       "      DistanceFromHome  Education EducationField  EmployeeCount  \\\n",
       "623                  5          4  Life Sciences              1   \n",
       "1064                 1          3  Life Sciences              1   \n",
       "1305                 7          4        Medical              1   \n",
       "\n",
       "      EmployeeNumber  EnvironmentSatisfaction  ... RelationshipSatisfaction  \\\n",
       "623              861                        2  ...                        2   \n",
       "1064            1499                        3  ...                        1   \n",
       "1305            1830                        4  ...                        2   \n",
       "\n",
       "      StandardHours  StockOptionLevel  TotalWorkingYears  \\\n",
       "623              80                 1                 10   \n",
       "1064             80                 1                  6   \n",
       "1305             80                 1                 14   \n",
       "\n",
       "     TrainingTimesLastYear  WorkLifeBalance YearsAtCompany  \\\n",
       "623                      3                2              5   \n",
       "1064                     3                4              5   \n",
       "1305                     2                2              7   \n",
       "\n",
       "      YearsInCurrentRole  YearsSinceLastPromotion  YearsWithCurrManager  \n",
       "623                    4                        0                     3  \n",
       "1064                   3                        1                     3  \n",
       "1305                   1                        1                     7  \n",
       "\n",
       "[3 rows x 34 columns]"
      ]
     },
     "execution_count": null,
     "metadata": {},
     "output_type": "execute_result"
    }
   ],
   "source": [
    "test_A_df = test_df.iloc[:3]\n",
    "test_A_df.drop(columns=[\"Attrition\"],inplace=True)\n",
    "test_A_df "
   ]
  },
  {
   "cell_type": "code",
   "execution_count": null,
   "metadata": {},
   "outputs": [],
   "source": [
    "import joblib\n",
    "\n",
    "\n",
    "def preprocess_test(attrition: DataFrame, encoder_path=False) -> DataFrame:\n",
    "    # Empty list to store columns with categorical data\n",
    "    categorical = []\n",
    "    for col, value in attrition.items():\n",
    "        if value.dtype == 'object':\n",
    "            categorical.append(col)\n",
    "\n",
    "    # Store the numerical columns in a list numerical\n",
    "    numerical = attrition.columns.difference(categorical)\n",
    "\n",
    "    # Store the categorical data in a dataframe called attrition_cat\n",
    "    attrition_cat = attrition[categorical]\n",
    "\n",
    "    # Store the numerical features to a dataframe attrition_num\n",
    "    attrition_num = attrition[numerical]\n",
    "    \n",
    "    encoder_path = Path(encoder_path,'encoder.joblib')\n",
    "    loaded_encoder = joblib.load(encoder_path)\n",
    "    feature_names = loaded_encoder.get_feature_names_out()\n",
    "\n",
    "    # Step 4: Transform the original DataFrame\n",
    "    df_encoded = loaded_encoder.transform(attrition_cat).toarray()\n",
    "\n",
    "    # If you want to create a DataFrame with feature names\n",
    "    df_encoded_cat = pd.DataFrame(df_encoded, columns=feature_names)\n",
    "\n",
    "    # Reset indices if needed\n",
    "    attrition_num = attrition_num.reset_index(drop=True)\n",
    "    df_encoded_cat = df_encoded_cat.reset_index(drop=True)\n",
    "\n",
    "    # Concatenate the one-hot encoded DataFrame with the original DataFrame\n",
    "    attrition_final = pd.concat([attrition_num, df_encoded_cat], axis=1)\n",
    "    \n",
    "    \n",
    "    #attrition_final['target'] = target\n",
    "    return attrition_final"
   ]
  },
  {
   "cell_type": "code",
   "execution_count": null,
   "metadata": {},
   "outputs": [],
   "source": [
    "test_X = preprocess_test(test_A_df,encoder_path='../model/saved_encoder')"
   ]
  },
  {
   "cell_type": "code",
   "execution_count": null,
   "metadata": {},
   "outputs": [
    {
     "data": {
      "text/plain": [
       "array([0, 0, 0])"
      ]
     },
     "execution_count": null,
     "metadata": {},
     "output_type": "execute_result"
    }
   ],
   "source": [
    "rf_model.predict(test_X)"
   ]
  },
  {
   "cell_type": "code",
   "execution_count": null,
   "metadata": {},
   "outputs": [
    {
     "data": {
      "text/plain": [
       "623     No\n",
       "1064    No\n",
       "1305    No\n",
       "Name: Attrition, dtype: object"
      ]
     },
     "execution_count": null,
     "metadata": {},
     "output_type": "execute_result"
    }
   ],
   "source": [
    "\n",
    "test_df.iloc[:3][\"Attrition\"]"
   ]
  },
  {
   "cell_type": "code",
   "execution_count": null,
   "metadata": {},
   "outputs": [],
   "source": [
    "# Can also do \n",
    "# # Specify the expected format for data(=)\n",
    "# class Data(BaseModel):\n",
    "#     title: str\n",
    "#     content: str\n",
    "#     published: bool = True\n",
    "#     rating: Optional[int] = None\n",
    "\n",
    "# @app.post(\"/predict\")\n",
    "# def creat_post(data: Data):\n",
    "#     post_dict = data.model_dump()\n",
    "#     ## Do preprocess and Prediction\n",
    "#     result = None\n",
    "#     return {\"result\": result}"
   ]
  },
  {
   "cell_type": "code",
   "execution_count": null,
   "metadata": {},
   "outputs": [],
   "source": [
    "# Endpoint for making predictions\n",
    "@app.post(\"/predict/\")\n",
    "async def predict(request: Request):\n",
    "    try:\n",
    "        data = await request.json()\n",
    "\n",
    "        sample_test = data.get(\"sample_test\")\n",
    "\n",
    "        # Make predictions using the trained model\n",
    "        rf_predictions = rf_model.predict(sample_test)\n",
    "        rf_probabilities = rf_model.predict_proba(sample_test)\n",
    "\n",
    "        # Format results\n",
    "        results = [{\"prediction\": int(prediction), \"probabilities\": probabilities.tolist()} for prediction, probabilities in zip(rf_predictions, rf_probabilities)]\n",
    "\n",
    "        return JSONResponse(content={\"results\": results})\n",
    "    except Exception as e:\n",
    "        raise HTTPException(status_code=500, detail=str(e))"
   ]
  },
  {
   "cell_type": "code",
   "execution_count": null,
   "metadata": {},
   "outputs": [
    {
     "data": {
      "text/html": [
       "<div>\n",
       "<style scoped>\n",
       "    .dataframe tbody tr th:only-of-type {\n",
       "        vertical-align: middle;\n",
       "    }\n",
       "\n",
       "    .dataframe tbody tr th {\n",
       "        vertical-align: top;\n",
       "    }\n",
       "\n",
       "    .dataframe thead th {\n",
       "        text-align: right;\n",
       "    }\n",
       "</style>\n",
       "<table border=\"1\" class=\"dataframe\">\n",
       "  <thead>\n",
       "    <tr style=\"text-align: right;\">\n",
       "      <th></th>\n",
       "      <th>Age</th>\n",
       "      <th>DailyRate</th>\n",
       "      <th>DistanceFromHome</th>\n",
       "      <th>Education</th>\n",
       "      <th>EmployeeCount</th>\n",
       "      <th>EmployeeNumber</th>\n",
       "      <th>EnvironmentSatisfaction</th>\n",
       "      <th>HourlyRate</th>\n",
       "      <th>JobInvolvement</th>\n",
       "      <th>JobLevel</th>\n",
       "      <th>...</th>\n",
       "      <th>JobRole_Research Director</th>\n",
       "      <th>JobRole_Research Scientist</th>\n",
       "      <th>JobRole_Sales Executive</th>\n",
       "      <th>JobRole_Sales Representative</th>\n",
       "      <th>MaritalStatus_Divorced</th>\n",
       "      <th>MaritalStatus_Married</th>\n",
       "      <th>MaritalStatus_Single</th>\n",
       "      <th>Over18_Y</th>\n",
       "      <th>OverTime_No</th>\n",
       "      <th>OverTime_Yes</th>\n",
       "    </tr>\n",
       "  </thead>\n",
       "  <tbody>\n",
       "    <tr>\n",
       "      <th>1095</th>\n",
       "      <td>33</td>\n",
       "      <td>589</td>\n",
       "      <td>28</td>\n",
       "      <td>4</td>\n",
       "      <td>1</td>\n",
       "      <td>1549</td>\n",
       "      <td>2</td>\n",
       "      <td>79</td>\n",
       "      <td>3</td>\n",
       "      <td>2</td>\n",
       "      <td>...</td>\n",
       "      <td>False</td>\n",
       "      <td>False</td>\n",
       "      <td>False</td>\n",
       "      <td>False</td>\n",
       "      <td>False</td>\n",
       "      <td>True</td>\n",
       "      <td>False</td>\n",
       "      <td>True</td>\n",
       "      <td>False</td>\n",
       "      <td>True</td>\n",
       "    </tr>\n",
       "  </tbody>\n",
       "</table>\n",
       "<p>1 rows × 55 columns</p>\n",
       "</div>"
      ],
      "text/plain": [
       "      Age  DailyRate  DistanceFromHome  Education  EmployeeCount  \\\n",
       "1095   33        589                28          4              1   \n",
       "\n",
       "      EmployeeNumber  EnvironmentSatisfaction  HourlyRate  JobInvolvement  \\\n",
       "1095            1549                        2          79               3   \n",
       "\n",
       "      JobLevel  ...  JobRole_Research Director  JobRole_Research Scientist  \\\n",
       "1095         2  ...                      False                       False   \n",
       "\n",
       "      JobRole_Sales Executive  JobRole_Sales Representative  \\\n",
       "1095                    False                         False   \n",
       "\n",
       "      MaritalStatus_Divorced  MaritalStatus_Married  MaritalStatus_Single  \\\n",
       "1095                   False                   True                 False   \n",
       "\n",
       "      Over18_Y  OverTime_No  OverTime_Yes  \n",
       "1095      True        False          True  \n",
       "\n",
       "[1 rows x 55 columns]"
      ]
     },
     "execution_count": null,
     "metadata": {},
     "output_type": "execute_result"
    }
   ],
   "source": [
    "sample_test"
   ]
  },
  {
   "cell_type": "code",
   "execution_count": null,
   "metadata": {},
   "outputs": [
    {
     "data": {
      "text/html": [
       "<div>\n",
       "<style scoped>\n",
       "    .dataframe tbody tr th:only-of-type {\n",
       "        vertical-align: middle;\n",
       "    }\n",
       "\n",
       "    .dataframe tbody tr th {\n",
       "        vertical-align: top;\n",
       "    }\n",
       "\n",
       "    .dataframe thead th {\n",
       "        text-align: right;\n",
       "    }\n",
       "</style>\n",
       "<table border=\"1\" class=\"dataframe\">\n",
       "  <thead>\n",
       "    <tr style=\"text-align: right;\">\n",
       "      <th></th>\n",
       "      <th>Age</th>\n",
       "      <th>DailyRate</th>\n",
       "      <th>DistanceFromHome</th>\n",
       "      <th>Education</th>\n",
       "      <th>EmployeeCount</th>\n",
       "      <th>EmployeeNumber</th>\n",
       "      <th>EnvironmentSatisfaction</th>\n",
       "      <th>HourlyRate</th>\n",
       "      <th>JobInvolvement</th>\n",
       "      <th>JobLevel</th>\n",
       "      <th>...</th>\n",
       "      <th>JobRole_Research Director</th>\n",
       "      <th>JobRole_Research Scientist</th>\n",
       "      <th>JobRole_Sales Executive</th>\n",
       "      <th>JobRole_Sales Representative</th>\n",
       "      <th>MaritalStatus_Divorced</th>\n",
       "      <th>MaritalStatus_Married</th>\n",
       "      <th>MaritalStatus_Single</th>\n",
       "      <th>Over18_Y</th>\n",
       "      <th>OverTime_No</th>\n",
       "      <th>OverTime_Yes</th>\n",
       "    </tr>\n",
       "  </thead>\n",
       "  <tbody>\n",
       "    <tr>\n",
       "      <th>0</th>\n",
       "      <td>33</td>\n",
       "      <td>589</td>\n",
       "      <td>28</td>\n",
       "      <td>4</td>\n",
       "      <td>1</td>\n",
       "      <td>1549</td>\n",
       "      <td>2</td>\n",
       "      <td>79</td>\n",
       "      <td>3</td>\n",
       "      <td>2</td>\n",
       "      <td>...</td>\n",
       "      <td>False</td>\n",
       "      <td>False</td>\n",
       "      <td>False</td>\n",
       "      <td>False</td>\n",
       "      <td>False</td>\n",
       "      <td>True</td>\n",
       "      <td>False</td>\n",
       "      <td>True</td>\n",
       "      <td>False</td>\n",
       "      <td>True</td>\n",
       "    </tr>\n",
       "  </tbody>\n",
       "</table>\n",
       "<p>1 rows × 55 columns</p>\n",
       "</div>"
      ],
      "text/plain": [
       "   Age  DailyRate  DistanceFromHome  Education  EmployeeCount  EmployeeNumber  \\\n",
       "0   33        589                28          4              1            1549   \n",
       "\n",
       "   EnvironmentSatisfaction  HourlyRate  JobInvolvement  JobLevel  ...  \\\n",
       "0                        2          79               3         2  ...   \n",
       "\n",
       "   JobRole_Research Director  JobRole_Research Scientist  \\\n",
       "0                      False                       False   \n",
       "\n",
       "   JobRole_Sales Executive  JobRole_Sales Representative  \\\n",
       "0                    False                         False   \n",
       "\n",
       "   MaritalStatus_Divorced  MaritalStatus_Married  MaritalStatus_Single  \\\n",
       "0                   False                   True                 False   \n",
       "\n",
       "   Over18_Y  OverTime_No  OverTime_Yes  \n",
       "0      True        False          True  \n",
       "\n",
       "[1 rows x 55 columns]"
      ]
     },
     "execution_count": null,
     "metadata": {},
     "output_type": "execute_result"
    }
   ],
   "source": [
    "data_t = sample_test.to_dict()\n",
    "flattened_data = {key: value[next(iter(value))] for key, value in data_t.items()}\n",
    "flattened_data\n",
    "pd.DataFrame([flattened_data])"
   ]
  },
  {
   "cell_type": "code",
   "execution_count": null,
   "metadata": {},
   "outputs": [
    {
     "name": "stdout",
     "output_type": "stream",
     "text": [
      "   Age  DailyRate  DistanceFromHome  Education  EmployeeCount  EmployeeNumber  \\\n",
      "0   33        589                28          4              1            1549   \n",
      "\n",
      "   EnvironmentSatisfaction  HourlyRate  JobInvolvement  JobLevel  ...  \\\n",
      "0                        2          79               3         2  ...   \n",
      "\n",
      "   JobRole_Research Director  JobRole_Research Scientist  \\\n",
      "0                      False                       False   \n",
      "\n",
      "   JobRole_Sales Executive  JobRole_Sales Representative  \\\n",
      "0                    False                         False   \n",
      "\n",
      "   MaritalStatus_Divorced  MaritalStatus_Married  MaritalStatus_Single  \\\n",
      "0                   False                   True                 False   \n",
      "\n",
      "   Over18_Y  OverTime_No  OverTime_Yes  \n",
      "0      True        False          True  \n",
      "\n",
      "[1 rows x 55 columns]\n"
     ]
    },
    {
     "data": {
      "text/plain": [
       "array([0])"
      ]
     },
     "execution_count": null,
     "metadata": {},
     "output_type": "execute_result"
    }
   ],
   "source": [
    "weight_path = r\"../log/mlflow/234382354845373750/bc12b4ac1d7d4bb19ab6c33c63995422/artifacts/model_weight/random_forest_model.joblib\"\n",
    "\n",
    "rf_model = joblib.load(weight_path)\n",
    "\n",
    "data_t = sample_test\n",
    "data_t = data_t.to_dict()\n",
    "flattened_data = {key: value[next(iter(value))] for key, value in data_t.items()}\n",
    "df = pd.DataFrame([flattened_data])\n",
    "print(df)\n",
    "rf_model.predict(df)"
   ]
  },
  {
   "cell_type": "code",
   "execution_count": null,
   "metadata": {},
   "outputs": [],
   "source": [
    "#Run it in terminal\n",
    "# uvicorn main:app --reload\n",
    "\n"
   ]
  },
  {
   "cell_type": "code",
   "execution_count": null,
   "metadata": {},
   "outputs": [],
   "source": [
    "data_t = sample_test\n",
    "data_t = data_t.to_dict()\n",
    "flattened_data = {key: value[next(iter(value))] for key, value in data_t.items()}\n",
    "df = pd.DataFrame([flattened_data])\n",
    "print(df)\n",
    "rf_model.predict(df)"
   ]
  },
  {
   "cell_type": "code",
   "execution_count": null,
   "metadata": {},
   "outputs": [],
   "source": [
    "import requests\n",
    "import json\n",
    "\n",
    "# Define a function to make a query to the FastAPI endpoint\n",
    "def make_prediction_query(data):\n",
    "    url = \"http://127.0.0.1:8000/predict/\"\n",
    "\n",
    "    #sample_test_json = data.to_json()\n",
    "    sample_test_dict = data.to_dict()\n",
    "    flattened_data = {key: value[next(iter(value))] for key, value in sample_test_dict.items()}\n",
    "    # Send a POST request to the /predict/ endpoint\n",
    "    response = requests.post(url, json={\"data\": flattened_data})\n",
    "\n",
    "    # Print the JSON response\n",
    "    print(response.json())\n"
   ]
  },
  {
   "cell_type": "code",
   "execution_count": null,
   "metadata": {},
   "outputs": [
    {
     "name": "stdout",
     "output_type": "stream",
     "text": [
      "{'results': [{'prediction': 0, 'probabilities': [0.6393793796067369, 0.360620620393262]}]}\n"
     ]
    }
   ],
   "source": [
    "# Make a query \n",
    "make_prediction_query(sample_test)"
   ]
  },
  {
   "cell_type": "code",
   "execution_count": null,
   "metadata": {},
   "outputs": [
    {
     "data": {
      "text/plain": [
       "'df3e02807a51427d867bfcf92257d507'"
      ]
     },
     "execution_count": null,
     "metadata": {},
     "output_type": "execute_result"
    }
   ],
   "source": [
    "best_run_id"
   ]
  },
  {
   "cell_type": "code",
   "execution_count": null,
   "metadata": {},
   "outputs": [
    {
     "data": {
      "text/plain": [
       "'/Users/bibekkarki/Desktop/UT-Courses /Learning/hr_ibm-madewithML/efs/mlflow/458800107370886466/df3e02807a51427d867bfcf92257d507/artifacts'"
      ]
     },
     "execution_count": null,
     "metadata": {},
     "output_type": "execute_result"
    }
   ],
   "source": [
    "urlparse(mlflow.get_run(best_run_id).info.artifact_uri).path"
   ]
  },
  {
   "cell_type": "code",
   "execution_count": null,
   "metadata": {},
   "outputs": [],
   "source": [
    "from attrition_pred.evaluate import evaluate"
   ]
  },
  {
   "cell_type": "code",
   "execution_count": null,
   "metadata": {},
   "outputs": [],
   "source": [
    "from attrition_pred.predict import predict"
   ]
  },
  {
   "cell_type": "code",
   "execution_count": null,
   "metadata": {},
   "outputs": [
    {
     "data": {
      "text/plain": [
       "Age                                             30\n",
       "BusinessTravel                   Travel_Frequently\n",
       "DailyRate                                     1012\n",
       "Department                  Research & Development\n",
       "DistanceFromHome                                 5\n",
       "Education                                        4\n",
       "EducationField                       Life Sciences\n",
       "EmployeeCount                                    1\n",
       "EmployeeNumber                                 861\n",
       "EnvironmentSatisfaction                          2\n",
       "Gender                                        Male\n",
       "HourlyRate                                      75\n",
       "JobInvolvement                                   2\n",
       "JobLevel                                         1\n",
       "JobRole                         Research Scientist\n",
       "JobSatisfaction                                  4\n",
       "MaritalStatus                             Divorced\n",
       "MonthlyIncome                                 3761\n",
       "MonthlyRate                                   2373\n",
       "NumCompaniesWorked                               9\n",
       "Over18                                           Y\n",
       "OverTime                                        No\n",
       "PercentSalaryHike                               12\n",
       "PerformanceRating                                3\n",
       "RelationshipSatisfaction                         2\n",
       "StandardHours                                   80\n",
       "StockOptionLevel                                 1\n",
       "TotalWorkingYears                               10\n",
       "TrainingTimesLastYear                            3\n",
       "WorkLifeBalance                                  2\n",
       "YearsAtCompany                                   5\n",
       "YearsInCurrentRole                               4\n",
       "YearsSinceLastPromotion                          0\n",
       "YearsWithCurrManager                             3\n",
       "Name: 623, dtype: object"
      ]
     },
     "execution_count": null,
     "metadata": {},
     "output_type": "execute_result"
    }
   ],
   "source": [
    "sample_data_test_df = test_df.drop(columns=[\"Attrition\"]).iloc[0]\n",
    "sample_data_test_df"
   ]
  },
  {
   "cell_type": "code",
   "execution_count": null,
   "metadata": {},
   "outputs": [
    {
     "data": {
      "text/plain": [
       "{'Age': 30,\n",
       " 'BusinessTravel': 'Travel_Frequently',\n",
       " 'DailyRate': 1012,\n",
       " 'Department': 'Research & Development',\n",
       " 'DistanceFromHome': 5,\n",
       " 'Education': 4,\n",
       " 'EducationField': 'Life Sciences',\n",
       " 'EmployeeCount': 1,\n",
       " 'EmployeeNumber': 861,\n",
       " 'EnvironmentSatisfaction': 2,\n",
       " 'Gender': 'Male',\n",
       " 'HourlyRate': 75,\n",
       " 'JobInvolvement': 2,\n",
       " 'JobLevel': 1,\n",
       " 'JobRole': 'Research Scientist',\n",
       " 'JobSatisfaction': 4,\n",
       " 'MaritalStatus': 'Divorced',\n",
       " 'MonthlyIncome': 3761,\n",
       " 'MonthlyRate': 2373,\n",
       " 'NumCompaniesWorked': 9,\n",
       " 'Over18': 'Y',\n",
       " 'OverTime': 'No',\n",
       " 'PercentSalaryHike': 12,\n",
       " 'PerformanceRating': 3,\n",
       " 'RelationshipSatisfaction': 2,\n",
       " 'StandardHours': 80,\n",
       " 'StockOptionLevel': 1,\n",
       " 'TotalWorkingYears': 10,\n",
       " 'TrainingTimesLastYear': 3,\n",
       " 'WorkLifeBalance': 2,\n",
       " 'YearsAtCompany': 5,\n",
       " 'YearsInCurrentRole': 4,\n",
       " 'YearsSinceLastPromotion': 0,\n",
       " 'YearsWithCurrManager': 3}"
      ]
     },
     "execution_count": null,
     "metadata": {},
     "output_type": "execute_result"
    }
   ],
   "source": [
    "sample_data_test = dict(sample_data_test_df)\n",
    "sample_data_test"
   ]
  },
  {
   "cell_type": "code",
   "execution_count": null,
   "metadata": {},
   "outputs": [
    {
     "name": "stdout",
     "output_type": "stream",
     "text": [
      "[\n",
      "  {\n",
      "    \"0\": 0.7108957960496883,\n",
      "    \"1\": 0.2891042039503126\n",
      "  }\n",
      "]\n"
     ]
    },
    {
     "data": {
      "text/plain": [
       "[{0: 0.7108957960496883, 1: 0.2891042039503126}]"
      ]
     },
     "execution_count": null,
     "metadata": {},
     "output_type": "execute_result"
    }
   ],
   "source": [
    "predict(sample_data_test, best_run_id)"
   ]
  },
  {
   "cell_type": "code",
   "execution_count": null,
   "metadata": {},
   "outputs": [
    {
     "data": {
      "text/plain": [
       "'5d2575f94915464db85f82f33eb06efd'"
      ]
     },
     "execution_count": null,
     "metadata": {},
     "output_type": "execute_result"
    }
   ],
   "source": [
    "best_run_id\n"
   ]
  },
  {
   "cell_type": "code",
   "execution_count": null,
   "metadata": {},
   "outputs": [
    {
     "name": "stderr",
     "output_type": "stream",
     "text": [
      "100%|██████████| 3/3 [00:00<00:00, 9225.01it/s]"
     ]
    },
    {
     "name": "stdout",
     "output_type": "stream",
     "text": [
      "2\n",
      "2\n",
      "{\n",
      "  \"timestamp\": \"December 18, 2023 02:42:31 PM\",\n",
      "  \"run_id\": \"5d2575f94915464db85f82f33eb06efd\",\n",
      "  \"overall\": {\n",
      "    \"precision\": 1.0,\n",
      "    \"recall\": 1.0,\n",
      "    \"f1\": 1.0,\n",
      "    \"num_samples\": 3.0\n",
      "  },\n",
      "  \"per_class\": {\n",
      "    \"Yes\": {\n",
      "      \"precision\": 1.0,\n",
      "      \"recall\": 1.0,\n",
      "      \"f1\": 1.0,\n",
      "      \"num_samples\": 3.0\n",
      "    }\n",
      "  },\n",
      "  \"slices\": {}\n",
      "}\n"
     ]
    },
    {
     "name": "stderr",
     "output_type": "stream",
     "text": [
      "\n"
     ]
    },
    {
     "data": {
      "text/plain": [
       "{'timestamp': 'December 18, 2023 02:42:31 PM',\n",
       " 'run_id': '5d2575f94915464db85f82f33eb06efd',\n",
       " 'overall': {'precision': 1.0, 'recall': 1.0, 'f1': 1.0, 'num_samples': 3.0},\n",
       " 'per_class': OrderedDict([('Yes',\n",
       "               {'precision': 1.0,\n",
       "                'recall': 1.0,\n",
       "                'f1': 1.0,\n",
       "                'num_samples': 3.0})]),\n",
       " 'slices': {}}"
      ]
     },
     "execution_count": null,
     "metadata": {},
     "output_type": "execute_result"
    }
   ],
   "source": [
    "evaluate(best_run_id, \"test.csv\")"
   ]
  },
  {
   "cell_type": "markdown",
   "metadata": {},
   "source": []
  },
  {
   "cell_type": "code",
   "execution_count": null,
   "metadata": {},
   "outputs": [],
   "source": []
  },
  {
   "cell_type": "code",
   "execution_count": null,
   "metadata": {},
   "outputs": [],
   "source": []
  }
 ],
 "metadata": {
  "kernelspec": {
   "display_name": "venv",
   "language": "python",
   "name": "python3"
  },
  "language_info": {
   "codemirror_mode": {
    "name": "ipython",
    "version": 3
   },
   "file_extension": ".py",
   "mimetype": "text/x-python",
   "name": "python",
   "nbconvert_exporter": "python",
   "pygments_lexer": "ipython3",
   "version": "3.10.11"
  }
 },
 "nbformat": 4,
 "nbformat_minor": 2
}
